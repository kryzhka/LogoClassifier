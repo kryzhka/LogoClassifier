{
 "cells": [
  {
   "cell_type": "code",
   "execution_count": 1,
   "metadata": {},
   "outputs": [],
   "source": [
    "import torch\n",
    "import torch.nn as nn\n",
    "import torchvision as tv\n",
    "import pandas as pd\n",
    "import numpy as np\n",
    "import cv2\n",
    "from PIL import Image\n",
    "import matplotlib.pyplot as plt\n",
    "from tqdm import tqdm\n",
    "import torch.nn.functional as Func\n"
   ]
  },
  {
   "cell_type": "code",
   "execution_count": 2,
   "metadata": {},
   "outputs": [
    {
     "name": "stdout",
     "output_type": "stream",
     "text": [
      "8\n"
     ]
    },
    {
     "data": {
      "text/plain": [
       "['hyundai',\n",
       " 'lexus',\n",
       " 'mazda',\n",
       " 'mercedes',\n",
       " 'opel',\n",
       " 'skoda',\n",
       " 'toyota',\n",
       " 'volkswagen']"
      ]
     },
     "execution_count": 2,
     "metadata": {},
     "output_type": "execute_result"
    }
   ],
   "source": [
    "logostxt=open(\"d:\\\\Downloads\\\\datasets\\\\carBrandLogos\\\\archive\\\\Car_Brand_Logos\\\\spisok.txt\")\n",
    "logos_list=logostxt.read().split(\"\\n\")\n",
    "#logos_list=['Burger King','KFC','McDonalds','Other','Starbucks','Subway']\n",
    "logos_list.sort()\n",
    "CountOfClasses=len(logos_list)\n",
    "print(CountOfClasses)\n",
    "logos_list"
   ]
  },
  {
   "cell_type": "code",
   "execution_count": 3,
   "metadata": {},
   "outputs": [
    {
     "name": "stdout",
     "output_type": "stream",
     "text": [
      "device is cpu\n"
     ]
    }
   ],
   "source": [
    "device = 'cuda' if torch.cuda.is_available() else 'cpu'\n",
    "print('device is',device)"
   ]
  },
  {
   "cell_type": "code",
   "execution_count": 4,
   "metadata": {},
   "outputs": [],
   "source": [
    "path = 'd:\\\\Downloads\\\\datasets\\\\carBrandLogos\\\\archive\\\\Car_Brand_Logos\\\\Train'"
   ]
  },
  {
   "cell_type": "code",
   "execution_count": 5,
   "metadata": {},
   "outputs": [],
   "source": [
    "transforms=tv.transforms.Compose([\n",
    "    tv.transforms.Resize((60,60)),\n",
    "    tv.transforms.ToTensor()\n",
    "    \n",
    "])"
   ]
  },
  {
   "cell_type": "code",
   "execution_count": 6,
   "metadata": {},
   "outputs": [],
   "source": [
    "from matplotlib.transforms import Transform\n",
    "dataset=tv.datasets.ImageFolder(root=path,transform=transforms)"
   ]
  },
  {
   "cell_type": "code",
   "execution_count": 7,
   "metadata": {},
   "outputs": [],
   "source": [
    "dataloader=torch.utils.data.DataLoader(dataset,batch_size=16,shuffle=True,num_workers=4)"
   ]
  },
  {
   "cell_type": "code",
   "execution_count": 8,
   "metadata": {},
   "outputs": [
    {
     "name": "stdout",
     "output_type": "stream",
     "text": [
      "(tensor([[[0.7961, 0.7961, 0.7961,  ..., 0.7765, 0.7725, 0.7725],\n",
      "         [0.7961, 0.7961, 0.7961,  ..., 0.7843, 0.7765, 0.7686],\n",
      "         [0.7961, 0.7961, 0.7961,  ..., 0.7804, 0.7686, 0.7647],\n",
      "         ...,\n",
      "         [0.9255, 0.7216, 0.7451,  ..., 0.9725, 0.9725, 0.9882],\n",
      "         [0.9647, 0.7647, 0.6745,  ..., 0.9137, 0.9137, 0.9804],\n",
      "         [0.9922, 0.9569, 0.9176,  ..., 0.9882, 0.9922, 0.9961]],\n",
      "\n",
      "        [[0.8549, 0.8549, 0.8549,  ..., 0.8353, 0.8353, 0.8314],\n",
      "         [0.8549, 0.8549, 0.8549,  ..., 0.8431, 0.8353, 0.8275],\n",
      "         [0.8549, 0.8549, 0.8549,  ..., 0.8392, 0.8275, 0.8235],\n",
      "         ...,\n",
      "         [0.9451, 0.8235, 0.8431,  ..., 0.9725, 0.9725, 0.9882],\n",
      "         [0.9765, 0.8431, 0.7843,  ..., 0.9137, 0.9137, 0.9804],\n",
      "         [0.9882, 0.9765, 0.9529,  ..., 0.9882, 0.9922, 0.9961]],\n",
      "\n",
      "        [[0.9451, 0.9451, 0.9451,  ..., 0.8980, 0.9098, 0.9216],\n",
      "         [0.9451, 0.9451, 0.9451,  ..., 0.9059, 0.9098, 0.9176],\n",
      "         [0.9451, 0.9451, 0.9451,  ..., 0.9020, 0.9020, 0.9137],\n",
      "         ...,\n",
      "         [0.8196, 0.3843, 0.4588,  ..., 0.9725, 0.9725, 0.9882],\n",
      "         [0.8588, 0.5059, 0.3059,  ..., 0.9137, 0.9137, 0.9804],\n",
      "         [0.9765, 0.9451, 0.8314,  ..., 0.9882, 0.9922, 0.9961]]]), 0)\n"
     ]
    },
    {
     "data": {
      "image/png": "[encoded data removed]",
      "text/plain": [
       "<Figure size 640x480 with 1 Axes>"
      ]
     },
     "metadata": {},
     "output_type": "display_data"
    }
   ],
   "source": [
    "plt.imshow(dataset[118][0].numpy().transpose((1,2,0)))\n",
    "print(dataset[118])\n",
    "#print(dataset[50][0].numpy().transpose((1,2,0)).shape)\n",
    "#print(dataset[50][0].shape)\n",
    "#m=nn.Conv2d(3,32,kernel_size=3,padding=0)\n",
    "#m=nn.AdaptiveAvgPool2d((1,1))\n",
    "#print(m(dataset[50][0]).shape) \n",
    "#plt.imshow(m(dataset[50][0]).numpy().transpose((1,2,0)))\n",
    "#print(dataset[50])"
   ]
  },
  {
   "cell_type": "code",
   "execution_count": 11,
   "metadata": {},
   "outputs": [
    {
     "name": "stderr",
     "output_type": "stream",
     "text": [
      "C:\\Users\\lain\\AppData\\Roaming\\Python\\Python39\\site-packages\\torchvision\\models\\_utils.py:223: UserWarning: Arguments other than a weight enum or `None` for 'weights' are deprecated since 0.13 and may be removed in the future. The current behavior is equivalent to passing `weights=VGG19_Weights.IMAGENET1K_V1`. You can also use `weights=VGG19_Weights.DEFAULT` to get the most up-to-date weights.\n",
      "  warnings.warn(msg)\n"
     ]
    }
   ],
   "source": [
    "vggNet=tv.models.vgg.vgg19(weights=tv.models.VGG19_Weights)\n",
    "classifier=nn.Sequential(\n",
    "    nn.Linear(25088,600),\n",
    "    nn.ReLU(),\n",
    "    nn.Linear(600,600),\n",
    "    nn.ReLU(),\n",
    "    nn.Linear(600,CountOfClasses)\n",
    ")\n",
    "vggNet.classifier=classifier\n",
    "for param in vggNet.features.parameters():\n",
    "    param.requires_grad=False\n",
    "#net = SimpleConvNet()\n",
    "net=vggNet\n",
    "net = net.to(device)"
   ]
  },
  {
   "cell_type": "code",
   "execution_count": 12,
   "metadata": {},
   "outputs": [
    {
     "name": "stdout",
     "output_type": "stream",
     "text": [
      "15418808\n"
     ]
    }
   ],
   "source": [
    "#loss_fn = nn.CrossEntropyLoss()\n",
    "loss_fn=nn.MSELoss()\n",
    "#optimizer=torch.optim.Adam(net.parameters(),lr=1e-4, betas=(0.9, 0.999))\n",
    "optimizer=torch.optim.Adam(net.classifier.parameters(),lr=1e-4, betas=(0.9, 0.999))\n",
    "def count_parameters(net):\n",
    "    return sum(p.numel() for p in net.parameters() if p.requires_grad)\n",
    "print(count_parameters(net))"
   ]
  },
  {
   "cell_type": "code",
   "execution_count": 13,
   "metadata": {},
   "outputs": [],
   "source": [
    "def get_accuracy(pred, label):\n",
    "    answer =(pred.argmax(1)==label.argmax(1)).type(torch.float).sum().item()\n",
    "\n",
    "    #answer = pred.detach().numpy().argmax(1) == label.numpy().argmax(1) \n",
    "    return answer"
   ]
  },
  {
   "cell_type": "code",
   "execution_count": 14,
   "metadata": {},
   "outputs": [],
   "source": [
    "net = torch.load('D:\\\\myprogect\\\\pytorch\\\\weightsOfLogoClassifiervggVersion')"
   ]
  },
  {
   "cell_type": "code",
   "execution_count": 15,
   "metadata": {},
   "outputs": [],
   "source": [
    "# epochs=20\n",
    "# for epoch in range(epochs):\n",
    "#     loss_val=0\n",
    "#     acc_val=0\n",
    "\n",
    "#     for sample in dataloader:\n",
    "#         img,label = sample\n",
    "\n",
    "#         label = label.to(device)\n",
    "#         label = Func.one_hot(label, num_classes=CountOfClasses).float()\n",
    "#         # label=Func.one_hot(label,num_classes=10)\n",
    "#         #label = label.float()\n",
    "#         #label = label.unsqueeze(1)\n",
    "#         img = img.to(device)\n",
    "        \n",
    "#         optimizer.zero_grad()\n",
    "       \n",
    "        \n",
    "#         pred = net (img)\n",
    "        \n",
    "#         loss = loss_fn(pred, label)\n",
    "#         loss.backward()\n",
    "\n",
    "#         optimizer.step()\n",
    "        \n",
    "#         loss_val+=loss.item()\n",
    "#         acc_val += get_accuracy(pred.cpu(), label.cpu())\n",
    "\n",
    "#     loss_val /= len(dataloader)\n",
    "#     acc_val /= len(dataloader)*16\n",
    "#     print(\"epoch=\",epoch,\"loss=\",loss_val ,\"accruracy=\",acc_val)"
   ]
  },
  {
   "cell_type": "code",
   "execution_count": null,
   "metadata": {},
   "outputs": [],
   "source": [
    "\n"
   ]
  },
  {
   "cell_type": "code",
   "execution_count": 16,
   "metadata": {},
   "outputs": [],
   "source": [
    "torch.save(net, 'D:\\\\myprogect\\\\pytorch\\\\weightsOfLogoClassifiervggVersion')"
   ]
  },
  {
   "cell_type": "code",
   "execution_count": 17,
   "metadata": {},
   "outputs": [],
   "source": [
    "#net = MyConvModel()\n",
    "#net = torch.load('D:\\\\myprogect\\\\pytorch\\\\weightsOfLogoClassifierbatch1')\n",
    "#net.eval()"
   ]
  },
  {
   "attachments": {},
   "cell_type": "markdown",
   "metadata": {},
   "source": [
    "Test for one image"
   ]
  },
  {
   "cell_type": "code",
   "execution_count": 18,
   "metadata": {},
   "outputs": [
    {
     "name": "stdout",
     "output_type": "stream",
     "text": [
      "tensor([[ 0.0603,  0.0603, -0.0177,  1.4142, -0.1748, -0.1569, -0.1304,  0.2251]],\n",
      "       grad_fn=<AddmmBackward0>)\n",
      "[0.060297414660453796, 0.060331158339977264, -0.017707040533423424, 1.4142093658447266, -0.17481204867362976, -0.15687842667102814, -0.1303754597902298, 0.22508716583251953]\n",
      "1.4142093658447266\n",
      "3\n",
      "mercedes\n",
      "1.280152129009366\n"
     ]
    },
    {
     "data": {
      "image/png": "[encoded data removed]",
      "text/plain": [
       "<Figure size 640x480 with 1 Axes>"
      ]
     },
     "metadata": {},
     "output_type": "display_data"
    }
   ],
   "source": [
    "\n",
    "path=\"d:\\\\Downloads\\\\datasets\\\\carBrandLogos\\\\archive\\\\Car_Brand_Logos\\\\mytest\\\\2.jpg\"\n",
    "img=Image.open(path)\n",
    "tensorImg=transforms(img)\n",
    "batchImg=torch.unsqueeze(tensorImg,0)\n",
    "out=net(batchImg)\n",
    "print(out)\n",
    "test=out\n",
    "out=out.squeeze()\n",
    "out=out.tolist()\n",
    "print(out)\n",
    "print(max(out))\n",
    "print(out.index(max(out)))\n",
    "print(logos_list[out.index(max(out))])\n",
    "print(sum(out))\n",
    "y_pos = np.arange(len(logos_list))\n",
    "plt.bar(y_pos, out, align='center', alpha=0.5)\n",
    "plt.xticks(y_pos, logos_list)\n",
    "plt.ylabel('Value')\n",
    "plt.title('Bar title')\n",
    "\n",
    "plt.show()\n",
    "# dataset=tv.datasets.ImageFolder(root=path,transform=transforms)\n",
    "# #print(dataset[0])\n",
    "# testloader=torch.utils.data.DataLoader(dataset,batch_size=1,shuffle=True)\n",
    "# for sample in testloader:\n",
    "#   img,label = sample\n",
    "#   img=img.to(device)\n",
    "#   pred=net(img)\n",
    "  \n",
    "#   pred=max(pred).tolist()\n",
    "#   print(pred)\n",
    "#   print(pred.index(max(pred)))\n",
    "#   print(max(pred))\n",
    "#   print(logos_list[ pred.index(max(pred))])"
   ]
  },
  {
   "attachments": {},
   "cell_type": "markdown",
   "metadata": {},
   "source": [
    "test for test dataset dataset img =1460"
   ]
  },
  {
   "cell_type": "code",
   "execution_count": 19,
   "metadata": {},
   "outputs": [
    {
     "name": "stdout",
     "output_type": "stream",
     "text": [
      "loss= 0.01536526304410118 accruracy= 0.9832869080779945\n",
      "[305. 303. 306. 340. 303. 309. 312. 335.]\n",
      "2513.0\n"
     ]
    }
   ],
   "source": [
    "a=np.zeros(CountOfClasses)\n",
    "path = 'd:\\\\Downloads\\\\datasets\\\\carBrandLogos\\\\archive\\\\Car_Brand_Logos\\\\Test'\n",
    "dataset=tv.datasets.ImageFolder(root=path,transform=transforms)\n",
    "dataloader=torch.utils.data.DataLoader(dataset,batch_size=1,shuffle=True)\n",
    "loss_val=0\n",
    "acc_val=0\n",
    "for sample in dataloader:\n",
    "    img,label = sample\n",
    "\n",
    "    label = label.to(device)\n",
    "    label = Func.one_hot(label, num_classes=CountOfClasses).float()\n",
    "        # label=Func.one_hot(label,num_classes=10)\n",
    "        #label = label.float()\n",
    "        #label = label.unsqueeze(1)\n",
    "    img = img.to(device) \n",
    "    pred = net (img)\n",
    "    out=pred.squeeze()\n",
    "    out=out.tolist()\n",
    "    a[out.index(max(out))]+=1\n",
    "    loss = loss_fn(pred, label)\n",
    "         \n",
    "    loss_val+=loss.item()\n",
    "    acc_val += get_accuracy(pred.cpu(), label.cpu())\n",
    "    \n",
    "loss_val /= len(dataloader)\n",
    "acc_val /= len(dataloader)\n",
    "print(\"loss=\",loss_val ,\"accruracy=\",acc_val)\n",
    "print(a)\n",
    "print(sum(a))"
   ]
  },
  {
   "cell_type": "code",
   "execution_count": 20,
   "metadata": {},
   "outputs": [
    {
     "data": {
      "image/png": "[encoded data removed]",
      "text/plain": [
       "<Figure size 640x480 with 1 Axes>"
      ]
     },
     "metadata": {},
     "output_type": "display_data"
    }
   ],
   "source": [
    "y_pos = np.arange(len(logos_list))\n",
    "plt.bar(y_pos, a, align='center', alpha=0.5)\n",
    "plt.xticks(y_pos, logos_list)\n",
    "plt.ylabel('Value')\n",
    "plt.title('Bar title')\n",
    "\n",
    "plt.show()"
   ]
  },
  {
   "attachments": {},
   "cell_type": "markdown",
   "metadata": {},
   "source": [
    "эта хуйня не работает"
   ]
  }
 ],
 "metadata": {
  "kernelspec": {
   "display_name": "base",
   "language": "python",
   "name": "python3"
  },
  "language_info": {
   "codemirror_mode": {
    "name": "ipython",
    "version": 3
   },
   "file_extension": ".py",
   "mimetype": "text/x-python",
   "name": "python",
   "nbconvert_exporter": "python",
   "pygments_lexer": "ipython3",
   "version": "3.9.13"
  },
  "orig_nbformat": 4
 },
 "nbformat": 4,
 "nbformat_minor": 2
}
