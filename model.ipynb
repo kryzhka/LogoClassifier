{
 "cells": [
  {
   "cell_type": "code",
   "execution_count": 1,
   "metadata": {},
   "outputs": [],
   "source": [
    "import torch\n",
    "import torch.nn as nn\n",
    "import torchvision as tv\n",
    "import pandas as pd\n",
    "import numpy as np\n",
    "import cv2\n",
    "from PIL import Image\n",
    "import matplotlib.pyplot as plt\n",
    "from tqdm import tqdm\n",
    "import torch.nn.functional as Func\n"
   ]
  },
  {
   "cell_type": "code",
   "execution_count": 2,
   "metadata": {},
   "outputs": [
    {
     "data": {
      "text/plain": [
       "['ABLE',\n",
       " 'AC',\n",
       " 'ACID',\n",
       " 'AFernandez',\n",
       " 'ALCO',\n",
       " 'AND1',\n",
       " 'Acorn',\n",
       " 'AdanyEva',\n",
       " 'Addidas',\n",
       " 'Advent',\n",
       " 'Alliance',\n",
       " 'AlmostSkateboards',\n",
       " 'Always',\n",
       " 'Amador',\n",
       " 'Amoco',\n",
       " 'Amsterdam',\n",
       " 'Anchorage',\n",
       " 'Animal',\n",
       " 'Ankara',\n",
       " 'Annapurna']"
      ]
     },
     "execution_count": 2,
     "metadata": {},
     "output_type": "execute_result"
    }
   ],
   "source": [
    "logostxt=open(\"D:/Downloads/datasets/mini_logo_good/spisok.txt\")\n",
    "logos_list=logostxt.read().split(\"\\n\")\n",
    "#logos_list=['Burger King','KFC','McDonalds','Other','Starbucks','Subway']\n",
    "logos_list.sort()\n",
    "CountOfClasses=len(logos_list)\n",
    "logos_list"
   ]
  },
  {
   "cell_type": "code",
   "execution_count": 3,
   "metadata": {},
   "outputs": [
    {
     "name": "stdout",
     "output_type": "stream",
     "text": [
      "device is cpu\n"
     ]
    }
   ],
   "source": [
    "device = 'cuda' if torch.cuda.is_available() else 'cpu'\n",
    "print('device is',device)"
   ]
  },
  {
   "cell_type": "code",
   "execution_count": 4,
   "metadata": {},
   "outputs": [],
   "source": [
    "path = 'D:/Downloads/datasets/mini_logo_good/train'"
   ]
  },
  {
   "cell_type": "code",
   "execution_count": 5,
   "metadata": {},
   "outputs": [],
   "source": [
    "transforms=tv.transforms.Compose([\n",
    "    tv.transforms.Resize((70,70)),\n",
    "    tv.transforms.ToTensor()\n",
    "    \n",
    "])"
   ]
  },
  {
   "cell_type": "code",
   "execution_count": 6,
   "metadata": {},
   "outputs": [],
   "source": [
    "from matplotlib.transforms import Transform\n",
    "dataset=tv.datasets.ImageFolder(root=path,transform=transforms)"
   ]
  },
  {
   "cell_type": "code",
   "execution_count": 7,
   "metadata": {},
   "outputs": [],
   "source": [
    "dataloader=torch.utils.data.DataLoader(dataset,batch_size=4,shuffle=True,num_workers=2)"
   ]
  },
  {
   "cell_type": "code",
   "execution_count": 8,
   "metadata": {},
   "outputs": [
    {
     "name": "stdout",
     "output_type": "stream",
     "text": [
      "(tensor([[[0.0000, 0.0000, 0.0000,  ..., 0.0000, 0.0000, 0.0000],\n",
      "         [0.0000, 0.0000, 0.0000,  ..., 0.0000, 0.0000, 0.0000],\n",
      "         [0.0000, 0.0000, 0.0000,  ..., 0.0000, 0.0000, 0.0000],\n",
      "         ...,\n",
      "         [0.5608, 0.5608, 0.5608,  ..., 0.5608, 0.5608, 0.5608],\n",
      "         [0.5608, 0.5608, 0.5608,  ..., 0.5608, 0.5608, 0.5608],\n",
      "         [0.5608, 0.5608, 0.5608,  ..., 0.5608, 0.5608, 0.5608]],\n",
      "\n",
      "        [[0.1529, 0.1529, 0.1529,  ..., 0.1529, 0.1529, 0.1529],\n",
      "         [0.1529, 0.1529, 0.1529,  ..., 0.1529, 0.1529, 0.1529],\n",
      "         [0.1529, 0.1529, 0.1529,  ..., 0.1529, 0.1529, 0.1529],\n",
      "         ...,\n",
      "         [0.5608, 0.5608, 0.5608,  ..., 0.5608, 0.5608, 0.5608],\n",
      "         [0.5608, 0.5608, 0.5608,  ..., 0.5608, 0.5608, 0.5608],\n",
      "         [0.5608, 0.5608, 0.5608,  ..., 0.5608, 0.5608, 0.5608]],\n",
      "\n",
      "        [[0.1725, 0.1725, 0.1725,  ..., 0.1725, 0.1725, 0.1725],\n",
      "         [0.1725, 0.1725, 0.1725,  ..., 0.1725, 0.1725, 0.1725],\n",
      "         [0.1725, 0.1725, 0.1725,  ..., 0.1725, 0.1725, 0.1725],\n",
      "         ...,\n",
      "         [0.5608, 0.5608, 0.5608,  ..., 0.5608, 0.5608, 0.5608],\n",
      "         [0.5608, 0.5608, 0.5608,  ..., 0.5608, 0.5608, 0.5608],\n",
      "         [0.5608, 0.5608, 0.5608,  ..., 0.5608, 0.5608, 0.5608]]]), 1)\n"
     ]
    },
    {
     "data": {
      "image/png": "[encoded data removed]",
      "text/plain": [
       "<Figure size 640x480 with 1 Axes>"
      ]
     },
     "metadata": {},
     "output_type": "display_data"
    }
   ],
   "source": [
    "plt.imshow(dataset[118][0].numpy().transpose((1,2,0)))\n",
    "print(dataset[118])\n",
    "#print(dataset[50][0].numpy().transpose((1,2,0)).shape)\n",
    "#print(dataset[50][0].shape)\n",
    "#m=nn.Conv2d(3,32,kernel_size=3,padding=0)\n",
    "#m=nn.AdaptiveAvgPool2d((1,1))\n",
    "#print(m(dataset[50][0]).shape) \n",
    "#plt.imshow(m(dataset[50][0]).numpy().transpose((1,2,0)))\n",
    "#print(dataset[50])"
   ]
  },
  {
   "cell_type": "code",
   "execution_count": 9,
   "metadata": {},
   "outputs": [],
   "source": [
    "class CNA(nn.Module):\n",
    "  def __init__(self,in_ch=32,out_ch=32):\n",
    "    super().__init__()\n",
    "    self.conv=nn.Conv2d(in_ch,out_ch,kernel_size=3,padding=1)\n",
    "    self.norm=nn.BatchNorm2d(out_ch)\n",
    "    self.act=nn.ReLU()\n",
    "\n",
    "  def forward(self,x):\n",
    "    out=self.conv(x)\n",
    "    out=self.norm(out)\n",
    "    out=self.act(out)\n",
    "    return out\n",
    "net=CNA()\n",
    "net=net.to(device)"
   ]
  },
  {
   "cell_type": "code",
   "execution_count": 10,
   "metadata": {},
   "outputs": [],
   "source": [
    "class MyConvModel(nn.Module):\n",
    "  def __init__(self, base_ch=32):\n",
    "    super().__init__()\n",
    "    cna1_1=CNA(3,base_ch) \n",
    "    cna1_2=CNA(base_ch,base_ch) \n",
    "    cna2_1=CNA(base_ch,2*base_ch)\n",
    "    cna2_2=CNA(2*base_ch,2*base_ch)\n",
    "    cna3_1=CNA(2*base_ch,4*base_ch)\n",
    "    cna3_2=CNA(4*base_ch,4*base_ch)\n",
    "    cna4_1=CNA(4*base_ch,8*base_ch)\n",
    "    cna4_2=CNA(8*base_ch,8*base_ch)\n",
    "    cna5_1=CNA(8*base_ch,16*base_ch)\n",
    "    cna5_2=CNA(16*base_ch,16*base_ch)\n",
    "    cna6_1=CNA(16*base_ch,32*base_ch)\n",
    "    act=nn.ReLU()\n",
    "    Linear_1=nn.Linear(32*base_ch,16*base_ch)\n",
    "    Linear_2=nn.Linear(16*base_ch,CountOfClasses)\n",
    "    maxpool=nn.MaxPool2d(2,2)\n",
    "    avgpool=nn.AdaptiveAvgPool2d((1,1))\n",
    "    flatten=nn.Flatten()\n",
    "    self.model = nn.Sequential(\n",
    "          cna1_1,cna1_2,maxpool,# (16,3,60,60)-> (16,32,30,30)\n",
    "          cna2_1,cna2_2,maxpool,#(16,32,30,30)->(16,64,15,15)\n",
    "          cna3_1,cna3_2,maxpool,\n",
    "          cna4_1,cna4_2,maxpool,\n",
    "          cna5_1,cna5_2,maxpool,\n",
    "          cna6_1,avgpool,\n",
    "          flatten,Linear_1,act,\n",
    "          Linear_2\n",
    "    )\n",
    "  def forward(self,x):\n",
    "    return self.model(x)\n",
    "net=MyConvModel()\n",
    "net=net.to(device)"
   ]
  },
  {
   "cell_type": "code",
   "execution_count": 11,
   "metadata": {},
   "outputs": [
    {
     "name": "stderr",
     "output_type": "stream",
     "text": [
      "C:\\Users\\lain\\AppData\\Roaming\\Python\\Python39\\site-packages\\torchvision\\models\\_utils.py:223: UserWarning: Arguments other than a weight enum or `None` for 'weights' are deprecated since 0.13 and may be removed in the future. The current behavior is equivalent to passing `weights=VGG19_Weights.IMAGENET1K_V1`. You can also use `weights=VGG19_Weights.DEFAULT` to get the most up-to-date weights.\n",
      "  warnings.warn(msg)\n",
      "Downloading: \"https://download.pytorch.org/models/vgg19-dcbb9e9d.pth\" to C:\\Users\\lain/.cache\\torch\\hub\\checkpoints\\vgg19-dcbb9e9d.pth\n"
     ]
    },
    {
     "data": {
      "application/vnd.jupyter.widget-view+json": {
       "model_id": "f7f119f04ed34ecbaed48a87c689581e",
       "version_major": 2,
       "version_minor": 0
      },
      "text/plain": [
       "  0%|          | 0.00/548M [00:00<?, ?B/s]"
      ]
     },
     "metadata": {},
     "output_type": "display_data"
    }
   ],
   "source": [
    "vggNet=tv.models.vgg.vgg19(weights=tv.models.VGG19_Weights)\n",
    "classifier=nn.Sequential(\n",
    "    nn.Linear(25088,600),\n",
    "    nn.ReLU(),\n",
    "    nn.Linear(600,600),\n",
    "    nn.ReLU(),\n",
    "    nn.Linear(600,CountOfClasses)\n",
    ")\n",
    "vggNet.classifier=classifier\n",
    "for param in vggNet.features.parameters():\n",
    "    param.requires_grad=False\n",
    "#net = SimpleConvNet()\n",
    "net=vggNet\n",
    "net = net.to(device)"
   ]
  },
  {
   "cell_type": "code",
   "execution_count": 12,
   "metadata": {},
   "outputs": [
    {
     "name": "stdout",
     "output_type": "stream",
     "text": [
      "15426020\n"
     ]
    }
   ],
   "source": [
    "#loss_fn = nn.CrossEntropyLoss()\n",
    "loss_fn=nn.MSELoss()\n",
    "#optimizer=torch.optim.Adam(net.parameters(),lr=1e-4, betas=(0.9, 0.999))\n",
    "optimizer=torch.optim.Adam(net.classifier.parameters(),lr=1e-4, betas=(0.9, 0.999))\n",
    "def count_parameters(net):\n",
    "    return sum(p.numel() for p in net.parameters() if p.requires_grad)\n",
    "print(count_parameters(net))"
   ]
  },
  {
   "cell_type": "code",
   "execution_count": 13,
   "metadata": {},
   "outputs": [],
   "source": [
    "def get_accuracy(pred, label):\n",
    "    answer =(pred.argmax(1)==label.argmax(1)).type(torch.float).sum().item()\n",
    "\n",
    "    #answer = pred.detach().numpy().argmax(1) == label.numpy().argmax(1) \n",
    "    return answer"
   ]
  },
  {
   "cell_type": "code",
   "execution_count": 14,
   "metadata": {},
   "outputs": [
    {
     "name": "stdout",
     "output_type": "stream",
     "text": [
      "epoch= 0 loss= 0.04406446717577438 accruracy= 0.2856164383561644\n",
      "epoch= 1 loss= 0.036419433186927884 accruracy= 0.4383561643835616\n",
      "epoch= 2 loss= 0.03184948036931966 accruracy= 0.5636986301369863\n",
      "epoch= 3 loss= 0.027570109255611895 accruracy= 0.6678082191780822\n",
      "epoch= 4 loss= 0.02381142265393003 accruracy= 0.7431506849315068\n"
     ]
    }
   ],
   "source": [
    "epochs=5\n",
    "for epoch in range(epochs):\n",
    "    loss_val=0\n",
    "    acc_val=0\n",
    "\n",
    "    for sample in dataloader:\n",
    "        img,label = sample\n",
    "\n",
    "        label = label.to(device)\n",
    "        label = Func.one_hot(label, num_classes=CountOfClasses).float()\n",
    "        # label=Func.one_hot(label,num_classes=10)\n",
    "        #label = label.float()\n",
    "        #label = label.unsqueeze(1)\n",
    "        img = img.to(device)\n",
    "        \n",
    "        optimizer.zero_grad()\n",
    "       \n",
    "        \n",
    "        pred = net (img)\n",
    "\n",
    "        loss = loss_fn(pred, label)\n",
    "        loss.backward()\n",
    "\n",
    "        optimizer.step()\n",
    "        \n",
    "        loss_val+=loss.item()\n",
    "        acc_val += get_accuracy(pred.cpu(), label.cpu())\n",
    "\n",
    "    loss_val /= len(dataloader)\n",
    "    acc_val /= len(dataloader)*4\n",
    "    print(\"epoch=\",epoch,\"loss=\",loss_val ,\"accruracy=\",acc_val)"
   ]
  },
  {
   "cell_type": "code",
   "execution_count": null,
   "metadata": {},
   "outputs": [],
   "source": [
    "\n"
   ]
  },
  {
   "cell_type": "code",
   "execution_count": 15,
   "metadata": {},
   "outputs": [],
   "source": [
    "torch.save(net, 'D:\\\\myprogect\\\\pytorch\\\\weightsOfLogoClassifierbatch1')"
   ]
  },
  {
   "cell_type": "code",
   "execution_count": 16,
   "metadata": {},
   "outputs": [],
   "source": [
    "#net = MyConvModel()\n",
    "net = torch.load('D:\\\\myprogect\\\\pytorch\\\\weightsOfLogoClassifierbatch1')\n",
    "#net.eval()"
   ]
  },
  {
   "attachments": {},
   "cell_type": "markdown",
   "metadata": {},
   "source": [
    "Test for one image"
   ]
  },
  {
   "cell_type": "code",
   "execution_count": 22,
   "metadata": {},
   "outputs": [
    {
     "name": "stdout",
     "output_type": "stream",
     "text": [
      "[-0.0162491612136364, 0.03672218322753906, 0.05101967230439186, -0.035597845911979675, 0.07148581743240356, 0.15400002896785736, 0.02724248170852661, 0.007769934833049774, 0.053132064640522, 0.04183892160654068, 0.006260983645915985, 0.037668440490961075, 0.18285031616687775, 0.06164471060037613, -0.007590334862470627, 0.06865771114826202, 0.06194351986050606, 0.0018118210136890411, -0.015218093991279602, 0.04427899047732353]\n",
      "0.18285031616687775\n",
      "12\n",
      "Always\n",
      "0.8336721621453762\n"
     ]
    },
    {
     "data": {
      "image/png": "[encoded data removed]",
      "text/plain": [
       "<Figure size 640x480 with 1 Axes>"
      ]
     },
     "metadata": {},
     "output_type": "display_data"
    }
   ],
   "source": [
    "path=\"D:/Downloads/datasets/mini_logo_good/test1/11/40jpg.jpg\"\n",
    "img=Image.open(path)\n",
    "tensorImg=transforms(img)\n",
    "batchImg=torch.unsqueeze(tensorImg,0)\n",
    "out=net(batchImg)\n",
    "test=out\n",
    "out=out.squeeze()\n",
    "out=out.tolist()\n",
    "print(out)\n",
    "print(max(out))\n",
    "print(out.index(max(out)))\n",
    "print(logos_list[out.index(max(out))])\n",
    "print(sum(out))\n",
    "y_pos = np.arange(len(logos_list))\n",
    "plt.bar(y_pos, out, align='center', alpha=0.5)\n",
    "plt.xticks(y_pos, logos_list)\n",
    "plt.ylabel('Value')\n",
    "plt.title('Bar title')\n",
    "\n",
    "plt.show()\n",
    "# dataset=tv.datasets.ImageFolder(root=path,transform=transforms)\n",
    "# #print(dataset[0])\n",
    "# testloader=torch.utils.data.DataLoader(dataset,batch_size=1,shuffle=True)\n",
    "# for sample in testloader:\n",
    "#   img,label = sample\n",
    "#   img=img.to(device)\n",
    "#   pred=net(img)\n",
    "  \n",
    "#   pred=max(pred).tolist()\n",
    "#   print(pred)\n",
    "#   print(pred.index(max(pred)))\n",
    "#   print(max(pred))\n",
    "#   print(logos_list[ pred.index(max(pred))])"
   ]
  },
  {
   "attachments": {},
   "cell_type": "markdown",
   "metadata": {},
   "source": [
    "test for test dataset"
   ]
  },
  {
   "cell_type": "code",
   "execution_count": 18,
   "metadata": {},
   "outputs": [
    {
     "name": "stdout",
     "output_type": "stream",
     "text": [
      "loss= 0.019157162819492087 accruracy= 0.8629198080877313\n",
      "[ 76.  79.  48.  64. 101.  63.  41.  77.  89.  80.  62.  79.  88.  76.\n",
      "  83.  41.  59.  98.  85.  70.]\n"
     ]
    }
   ],
   "source": [
    "a=np.zeros(20)\n",
    "path = 'D:/Downloads/datasets/mini_logo_good/train'\n",
    "dataset=tv.datasets.ImageFolder(root=path,transform=transforms)\n",
    "dataloader=torch.utils.data.DataLoader(dataset,batch_size=1,shuffle=True,num_workers=4)\n",
    "loss_val=0\n",
    "acc_val=0\n",
    "for sample in dataloader:\n",
    "    img,label = sample\n",
    "\n",
    "    label = label.to(device)\n",
    "    label = Func.one_hot(label, num_classes=CountOfClasses).float()\n",
    "        # label=Func.one_hot(label,num_classes=10)\n",
    "        #label = label.float()\n",
    "        #label = label.unsqueeze(1)\n",
    "    img = img.to(device) \n",
    "    pred = net (img)\n",
    "    out=pred.squeeze()\n",
    "    out=out.tolist()\n",
    "    a[out.index(max(out))]+=1\n",
    "    loss = loss_fn(pred, label)\n",
    "         \n",
    "    loss_val+=loss.item()\n",
    "    acc_val += get_accuracy(pred.cpu(), label.cpu())\n",
    "    \n",
    "loss_val /= len(dataloader)\n",
    "acc_val /= len(dataloader)\n",
    "print(\"loss=\",loss_val ,\"accruracy=\",acc_val)\n",
    "print(a)"
   ]
  },
  {
   "cell_type": "code",
   "execution_count": 19,
   "metadata": {},
   "outputs": [
    {
     "data": {
      "image/png": "[encoded data removed]",
      "text/plain": [
       "<Figure size 640x480 with 1 Axes>"
      ]
     },
     "metadata": {},
     "output_type": "display_data"
    }
   ],
   "source": [
    "y_pos = np.arange(len(logos_list))\n",
    "plt.bar(y_pos, a, align='center', alpha=0.5)\n",
    "plt.xticks(y_pos, logos_list)\n",
    "plt.ylabel('Value')\n",
    "plt.title('Bar title')\n",
    "\n",
    "plt.show()"
   ]
  },
  {
   "attachments": {},
   "cell_type": "markdown",
   "metadata": {},
   "source": [
    "эта хуйня не работает"
   ]
  }
 ],
 "metadata": {
  "kernelspec": {
   "display_name": "base",
   "language": "python",
   "name": "python3"
  },
  "language_info": {
   "codemirror_mode": {
    "name": "ipython",
    "version": 3
   },
   "file_extension": ".py",
   "mimetype": "text/x-python",
   "name": "python",
   "nbconvert_exporter": "python",
   "pygments_lexer": "ipython3",
   "version": "3.9.13"
  },
  "orig_nbformat": 4
 },
 "nbformat": 4,
 "nbformat_minor": 2
}
