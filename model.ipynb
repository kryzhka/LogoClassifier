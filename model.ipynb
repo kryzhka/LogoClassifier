{
 "cells": [
  {
   "cell_type": "code",
   "execution_count": 1,
   "metadata": {},
   "outputs": [],
   "source": [
    "import torch\n",
    "import torch.nn as nn\n",
    "import torchvision as tv\n",
    "import pandas as pd\n",
    "import numpy as np\n",
    "import cv2\n",
    "from PIL import Image\n",
    "import matplotlib.pyplot as plt\n",
    "from tqdm import tqdm\n",
    "import torch.nn.functional as Func\n"
   ]
  },
  {
   "cell_type": "code",
   "execution_count": 2,
   "metadata": {},
   "outputs": [
    {
     "data": {
      "text/plain": [
       "['ABLE',\n",
       " 'AC',\n",
       " 'ACID',\n",
       " 'AFernandez',\n",
       " 'ALCO',\n",
       " 'AND1',\n",
       " 'Acorn',\n",
       " 'AdanyEva',\n",
       " 'Addidas',\n",
       " 'Advent',\n",
       " 'Alliance',\n",
       " 'AlmostSkateboards',\n",
       " 'Always',\n",
       " 'Amador',\n",
       " 'Amoco',\n",
       " 'Amsterdam',\n",
       " 'Anchorage',\n",
       " 'Animal',\n",
       " 'Ankara',\n",
       " 'Annapurna']"
      ]
     },
     "execution_count": 2,
     "metadata": {},
     "output_type": "execute_result"
    }
   ],
   "source": [
    "logostxt=open(\"D:/Downloads/datasets/mini_logo_good/spisok.txt\")\n",
    "logos_list=logostxt.read().split(\"\\n\")\n",
    "#logos_list=['Burger King','KFC','McDonalds','Other','Starbucks','Subway']\n",
    "logos_list.sort()\n",
    "CountOfClasses=len(logos_list)\n",
    "logos_list"
   ]
  },
  {
   "cell_type": "code",
   "execution_count": 3,
   "metadata": {},
   "outputs": [
    {
     "name": "stdout",
     "output_type": "stream",
     "text": [
      "device is cpu\n"
     ]
    }
   ],
   "source": [
    "device = 'cuda' if torch.cuda.is_available() else 'cpu'\n",
    "print('device is',device)"
   ]
  },
  {
   "cell_type": "code",
   "execution_count": 4,
   "metadata": {},
   "outputs": [],
   "source": [
    "path = 'D:/Downloads/datasets/mini_logo_good/train'"
   ]
  },
  {
   "cell_type": "code",
   "execution_count": 5,
   "metadata": {},
   "outputs": [],
   "source": [
    "transforms=tv.transforms.Compose([\n",
    "    tv.transforms.Resize((60,60)),\n",
    "    tv.transforms.ToTensor()\n",
    "    \n",
    "])"
   ]
  },
  {
   "cell_type": "code",
   "execution_count": 6,
   "metadata": {},
   "outputs": [],
   "source": [
    "from matplotlib.transforms import Transform\n",
    "dataset=tv.datasets.ImageFolder(root=path,transform=transforms)"
   ]
  },
  {
   "cell_type": "code",
   "execution_count": 7,
   "metadata": {},
   "outputs": [],
   "source": [
    "dataloader=torch.utils.data.DataLoader(dataset,batch_size=16,shuffle=True,num_workers=2)"
   ]
  },
  {
   "cell_type": "code",
   "execution_count": 8,
   "metadata": {},
   "outputs": [
    {
     "name": "stdout",
     "output_type": "stream",
     "text": [
      "(tensor([[[0.0000, 0.0000, 0.0000,  ..., 0.0000, 0.0000, 0.0000],\n",
      "         [0.0000, 0.0000, 0.0000,  ..., 0.0000, 0.0000, 0.0000],\n",
      "         [0.0000, 0.0000, 0.0000,  ..., 0.0000, 0.0000, 0.0000],\n",
      "         ...,\n",
      "         [0.5608, 0.5608, 0.5608,  ..., 0.5608, 0.5608, 0.5608],\n",
      "         [0.5608, 0.5608, 0.5608,  ..., 0.5608, 0.5608, 0.5608],\n",
      "         [0.5608, 0.5608, 0.5608,  ..., 0.5608, 0.5608, 0.5608]],\n",
      "\n",
      "        [[0.1529, 0.1529, 0.1529,  ..., 0.1529, 0.1529, 0.1529],\n",
      "         [0.1529, 0.1529, 0.1529,  ..., 0.1529, 0.1529, 0.1529],\n",
      "         [0.1529, 0.1529, 0.1529,  ..., 0.1529, 0.1529, 0.1529],\n",
      "         ...,\n",
      "         [0.5608, 0.5608, 0.5608,  ..., 0.5608, 0.5608, 0.5608],\n",
      "         [0.5608, 0.5608, 0.5608,  ..., 0.5608, 0.5608, 0.5608],\n",
      "         [0.5608, 0.5608, 0.5608,  ..., 0.5608, 0.5608, 0.5608]],\n",
      "\n",
      "        [[0.1725, 0.1725, 0.1725,  ..., 0.1725, 0.1725, 0.1725],\n",
      "         [0.1725, 0.1725, 0.1725,  ..., 0.1725, 0.1725, 0.1725],\n",
      "         [0.1725, 0.1725, 0.1725,  ..., 0.1725, 0.1725, 0.1725],\n",
      "         ...,\n",
      "         [0.5608, 0.5608, 0.5608,  ..., 0.5608, 0.5608, 0.5608],\n",
      "         [0.5608, 0.5608, 0.5608,  ..., 0.5608, 0.5608, 0.5608],\n",
      "         [0.5608, 0.5608, 0.5608,  ..., 0.5608, 0.5608, 0.5608]]]), 1)\n"
     ]
    },
    {
     "data": {
      "image/png": "[encoded data removed]",
      "text/plain": [
       "<Figure size 640x480 with 1 Axes>"
      ]
     },
     "metadata": {},
     "output_type": "display_data"
    }
   ],
   "source": [
    "plt.imshow(dataset[118][0].numpy().transpose((1,2,0)))\n",
    "print(dataset[118])\n",
    "#print(dataset[50][0].numpy().transpose((1,2,0)).shape)\n",
    "#print(dataset[50][0].shape)\n",
    "#m=nn.Conv2d(3,32,kernel_size=3,padding=0)\n",
    "#m=nn.AdaptiveAvgPool2d((1,1))\n",
    "#print(m(dataset[50][0]).shape) \n",
    "#plt.imshow(m(dataset[50][0]).numpy().transpose((1,2,0)))\n",
    "#print(dataset[50])"
   ]
  },
  {
   "cell_type": "code",
   "execution_count": 9,
   "metadata": {},
   "outputs": [],
   "source": [
    "class CNA(nn.Module):\n",
    "  def __init__(self,in_ch=32,out_ch=32):\n",
    "    super().__init__()\n",
    "    self.conv=nn.Conv2d(in_ch,out_ch,kernel_size=3,padding=1)\n",
    "    self.norm=nn.BatchNorm2d(out_ch)\n",
    "    self.act=nn.ReLU()\n",
    "\n",
    "  def forward(self,x):\n",
    "    out=self.conv(x)\n",
    "    out=self.norm(out)\n",
    "    out=self.act(out)\n",
    "    return out\n",
    "net=CNA()\n",
    "net=net.to(device)"
   ]
  },
  {
   "cell_type": "code",
   "execution_count": 10,
   "metadata": {},
   "outputs": [],
   "source": [
    "class MyConvModel(nn.Module):\n",
    "  def __init__(self, base_ch=64):\n",
    "    super().__init__()\n",
    "    cna1_1=CNA(3,base_ch) \n",
    "    cna1_2=CNA(base_ch,base_ch) \n",
    "    \n",
    "    cna2_1=CNA(base_ch,2*base_ch)\n",
    "    cna2_2=CNA(2*base_ch,2*base_ch)\n",
    "\n",
    "    cna3_1=CNA(2*base_ch,4*base_ch)\n",
    "    cna3_2=CNA(4*base_ch,4*base_ch)\n",
    "    \n",
    "    cna4_1=CNA(4*base_ch,8*base_ch)\n",
    "    cna4_2=CNA(8*base_ch,8*base_ch)\n",
    "\n",
    "    cna5_1=CNA(8*base_ch,8*base_ch)\n",
    "    cna5_2=CNA(8*base_ch,8*base_ch)\n",
    "    \n",
    "    act=nn.ReLU()\n",
    "\n",
    "    Linear_1=nn.Linear(8*base_ch,4*base_ch)\n",
    "    Linear_2=nn.Linear(4*base_ch,CountOfClasses)\n",
    "\n",
    "    maxpool=nn.MaxPool2d((2,2),stride=2)\n",
    "    avgpool=nn.AdaptiveAvgPool2d((1,1))\n",
    "    flatten=nn.Flatten()\n",
    "    \n",
    "    self.model = nn.Sequential(\n",
    "          cna1_1,cna1_2,maxpool,# (16,3,60,60)-> (16,32,30,30)\n",
    "          cna2_1,cna2_2,maxpool,#(16,32,30,30)->(16,64,15,15)\n",
    "          cna3_1,cna3_2,maxpool,\n",
    "          cna4_1,cna4_2,maxpool,\n",
    "          cna5_1,cna5_2,avgpool,\n",
    "          flatten,\n",
    "          Linear_1,act,\n",
    "          Linear_2\n",
    "          \n",
    "    )\n",
    "  def forward(self,x):\n",
    "    return self.model(x)\n",
    "net=MyConvModel()\n",
    "net=net.to(device)"
   ]
  },
  {
   "cell_type": "code",
   "execution_count": 11,
   "metadata": {},
   "outputs": [],
   "source": [
    "# vggNet=tv.models.vgg.vgg19(weights=tv.models.VGG19_Weights)\n",
    "# classifier=nn.Sequential(\n",
    "#     nn.Linear(25088,600),\n",
    "#     nn.ReLU(),\n",
    "#     nn.Linear(600,600),\n",
    "#     nn.ReLU(),\n",
    "#     nn.Linear(600,CountOfClasses)\n",
    "# )\n",
    "# vggNet.classifier=classifier\n",
    "# for param in vggNet.features.parameters():\n",
    "#     param.requires_grad=False\n",
    "# #net = SimpleConvNet()\n",
    "# net=vggNet\n",
    "# net = net.to(device)"
   ]
  },
  {
   "cell_type": "code",
   "execution_count": 12,
   "metadata": {},
   "outputs": [
    {
     "name": "stdout",
     "output_type": "stream",
     "text": [
      "9547348\n"
     ]
    }
   ],
   "source": [
    "#loss_fn = nn.CrossEntropyLoss()\n",
    "loss_fn=nn.MSELoss()\n",
    "optimizer=torch.optim.Adam(net.parameters(),lr=1e-4, betas=(0.9, 0.999))\n",
    "#optimizer=torch.optim.Adam(net.classifier.parameters(),lr=1e-4, betas=(0.9, 0.999))\n",
    "def count_parameters(net):\n",
    "    return sum(p.numel() for p in net.parameters() if p.requires_grad)\n",
    "print(count_parameters(net))"
   ]
  },
  {
   "cell_type": "code",
   "execution_count": 13,
   "metadata": {},
   "outputs": [],
   "source": [
    "def get_accuracy(pred, label):\n",
    "    answer =(pred.argmax(1)==label.argmax(1)).type(torch.float).sum().item()\n",
    "\n",
    "    #answer = pred.detach().numpy().argmax(1) == label.numpy().argmax(1) \n",
    "    return answer"
   ]
  },
  {
   "cell_type": "code",
   "execution_count": 19,
   "metadata": {},
   "outputs": [],
   "source": [
    "net = torch.load('D:\\\\myprogect\\\\pytorch\\\\weightsOfLogoClassifierbatch1')"
   ]
  },
  {
   "cell_type": "code",
   "execution_count": 20,
   "metadata": {},
   "outputs": [],
   "source": [
    "epochs=20\n",
    "for epoch in range(epochs):\n",
    "    loss_val=0\n",
    "    acc_val=0\n",
    "\n",
    "    for sample in dataloader:\n",
    "        img,label = sample\n",
    "\n",
    "        label = label.to(device)\n",
    "        label = Func.one_hot(label, num_classes=CountOfClasses).float()\n",
    "        # label=Func.one_hot(label,num_classes=10)\n",
    "        #label = label.float()\n",
    "        #label = label.unsqueeze(1)\n",
    "        img = img.to(device)\n",
    "        \n",
    "        optimizer.zero_grad()\n",
    "       \n",
    "        \n",
    "        pred = net (img)\n",
    "\n",
    "        loss = loss_fn(pred, label)\n",
    "        loss.backward()\n",
    "\n",
    "        optimizer.step()\n",
    "        \n",
    "        loss_val+=loss.item()\n",
    "        acc_val += get_accuracy(pred.cpu(), label.cpu())\n",
    "\n",
    "    loss_val /= len(dataloader)\n",
    "    acc_val /= len(dataloader)*16\n",
    "    print(\"epoch=\",epoch,\"loss=\",loss_val ,\"accruracy=\",acc_val)"
   ]
  },
  {
   "cell_type": "code",
   "execution_count": null,
   "metadata": {},
   "outputs": [],
   "source": [
    "\n"
   ]
  },
  {
   "cell_type": "code",
   "execution_count": 15,
   "metadata": {},
   "outputs": [],
   "source": [
    "torch.save(net, 'D:\\\\myprogect\\\\pytorch\\\\weightsOfLogoClassifierbatch1')"
   ]
  },
  {
   "cell_type": "code",
   "execution_count": null,
   "metadata": {},
   "outputs": [],
   "source": [
    "#net = MyConvModel()\n",
    "#net = torch.load('D:\\\\myprogect\\\\pytorch\\\\weightsOfLogoClassifierbatch1')\n",
    "#net.eval()"
   ]
  },
  {
   "attachments": {},
   "cell_type": "markdown",
   "metadata": {},
   "source": [
    "Test for one image"
   ]
  },
  {
   "cell_type": "code",
   "execution_count": 16,
   "metadata": {},
   "outputs": [
    {
     "name": "stdout",
     "output_type": "stream",
     "text": [
      "tensor([[-0.0398,  0.0276,  0.0282,  0.0666,  0.0763,  0.0634,  0.0543,  0.0421,\n",
      "          0.1070,  0.0277,  0.0421,  0.0410,  0.0647,  0.0457, -0.0045,  0.0432,\n",
      "          0.0975,  0.0650,  0.1295,  0.0658]], grad_fn=<AddmmBackward0>)\n",
      "[-0.03984043002128601, 0.02763598971068859, 0.02817394770681858, 0.06657392531633377, 0.07629158347845078, 0.0634060874581337, 0.054329462349414825, 0.04211188852787018, 0.10699371248483658, 0.027653776109218597, 0.04210406914353371, 0.040978122502565384, 0.06471358984708786, 0.04565751552581787, -0.004463221877813339, 0.0432148277759552, 0.09752809256315231, 0.06499496847391129, 0.12950491905212402, 0.06583009660243988]\n",
      "0.12950491905212402\n",
      "18\n",
      "Ankara\n",
      "1.0433929227292538\n"
     ]
    },
    {
     "data": {
      "image/png": "[encoded data removed]",
      "text/plain": [
       "<Figure size 640x480 with 1 Axes>"
      ]
     },
     "metadata": {},
     "output_type": "display_data"
    }
   ],
   "source": [
    "path=\"D:/Downloads/datasets/mini_logo_good/test1/11/50jpg.jpg\"\n",
    "img=Image.open(path)\n",
    "tensorImg=transforms(img)\n",
    "batchImg=torch.unsqueeze(tensorImg,0)\n",
    "out=net(batchImg)\n",
    "print(out)\n",
    "test=out\n",
    "out=out.squeeze()\n",
    "out=out.tolist()\n",
    "print(out)\n",
    "print(max(out))\n",
    "print(out.index(max(out)))\n",
    "print(logos_list[out.index(max(out))])\n",
    "print(sum(out))\n",
    "y_pos = np.arange(len(logos_list))\n",
    "plt.bar(y_pos, out, align='center', alpha=0.5)\n",
    "plt.xticks(y_pos, logos_list)\n",
    "plt.ylabel('Value')\n",
    "plt.title('Bar title')\n",
    "\n",
    "plt.show()\n",
    "# dataset=tv.datasets.ImageFolder(root=path,transform=transforms)\n",
    "# #print(dataset[0])\n",
    "# testloader=torch.utils.data.DataLoader(dataset,batch_size=1,shuffle=True)\n",
    "# for sample in testloader:\n",
    "#   img,label = sample\n",
    "#   img=img.to(device)\n",
    "#   pred=net(img)\n",
    "  \n",
    "#   pred=max(pred).tolist()\n",
    "#   print(pred)\n",
    "#   print(pred.index(max(pred)))\n",
    "#   print(max(pred))\n",
    "#   print(logos_list[ pred.index(max(pred))])"
   ]
  },
  {
   "attachments": {},
   "cell_type": "markdown",
   "metadata": {},
   "source": [
    "test for test dataset dataset img =1460"
   ]
  },
  {
   "cell_type": "code",
   "execution_count": 17,
   "metadata": {},
   "outputs": [
    {
     "name": "stdout",
     "output_type": "stream",
     "text": [
      "loss= 0.048185302737418556 accruracy= 0.06237148732008225\n",
      "[   0.    0.    0.    0.    0.    0.    0.    0.    0.    0.    0.    0.\n",
      "    0.    0.    0.    0.    0.    0. 1459.    0.]\n",
      "1459.0\n"
     ]
    }
   ],
   "source": [
    "a=np.zeros(20)\n",
    "path = 'D:/Downloads/datasets/mini_logo_good/train'\n",
    "dataset=tv.datasets.ImageFolder(root=path,transform=transforms)\n",
    "dataloader=torch.utils.data.DataLoader(dataset,batch_size=1,shuffle=True,num_workers=4)\n",
    "loss_val=0\n",
    "acc_val=0\n",
    "for sample in dataloader:\n",
    "    img,label = sample\n",
    "\n",
    "    label = label.to(device)\n",
    "    label = Func.one_hot(label, num_classes=CountOfClasses).float()\n",
    "        # label=Func.one_hot(label,num_classes=10)\n",
    "        #label = label.float()\n",
    "        #label = label.unsqueeze(1)\n",
    "    img = img.to(device) \n",
    "    pred = net (img)\n",
    "    out=pred.squeeze()\n",
    "    out=out.tolist()\n",
    "    a[out.index(max(out))]+=1\n",
    "    loss = loss_fn(pred, label)\n",
    "         \n",
    "    loss_val+=loss.item()\n",
    "    acc_val += get_accuracy(pred.cpu(), label.cpu())\n",
    "    \n",
    "loss_val /= len(dataloader)\n",
    "acc_val /= len(dataloader)\n",
    "print(\"loss=\",loss_val ,\"accruracy=\",acc_val)\n",
    "print(a)\n",
    "print(sum(a))"
   ]
  },
  {
   "cell_type": "code",
   "execution_count": 18,
   "metadata": {},
   "outputs": [
    {
     "data": {
      "image/png": "[encoded data removed]",
      "text/plain": [
       "<Figure size 640x480 with 1 Axes>"
      ]
     },
     "metadata": {},
     "output_type": "display_data"
    }
   ],
   "source": [
    "y_pos = np.arange(len(logos_list))\n",
    "plt.bar(y_pos, a, align='center', alpha=0.5)\n",
    "plt.xticks(y_pos, logos_list)\n",
    "plt.ylabel('Value')\n",
    "plt.title('Bar title')\n",
    "\n",
    "plt.show()"
   ]
  },
  {
   "attachments": {},
   "cell_type": "markdown",
   "metadata": {},
   "source": [
    "эта хуйня не работает"
   ]
  }
 ],
 "metadata": {
  "kernelspec": {
   "display_name": "base",
   "language": "python",
   "name": "python3"
  },
  "language_info": {
   "codemirror_mode": {
    "name": "ipython",
    "version": 3
   },
   "file_extension": ".py",
   "mimetype": "text/x-python",
   "name": "python",
   "nbconvert_exporter": "python",
   "pygments_lexer": "ipython3",
   "version": "3.9.13"
  },
  "orig_nbformat": 4
 },
 "nbformat": 4,
 "nbformat_minor": 2
}
