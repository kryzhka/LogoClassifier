{
 "cells": [
  {
   "cell_type": "code",
   "execution_count": 1,
   "metadata": {},
   "outputs": [],
   "source": [
    "import torch\n",
    "import torch.nn as nn\n",
    "import torchvision as tv\n",
    "import pandas as pd\n",
    "import numpy as np\n",
    "import cv2\n",
    "from PIL import Image\n",
    "import matplotlib.pyplot as plt\n",
    "from tqdm import tqdm\n",
    "import torch.nn.functional as Func\n"
   ]
  },
  {
   "cell_type": "code",
   "execution_count": 2,
   "metadata": {},
   "outputs": [
    {
     "name": "stdout",
     "output_type": "stream",
     "text": [
      "8\n"
     ]
    },
    {
     "data": {
      "text/plain": [
       "['hyundai',\n",
       " 'lexus',\n",
       " 'mazda',\n",
       " 'mercedes',\n",
       " 'opel',\n",
       " 'skoda',\n",
       " 'toyota',\n",
       " 'volkswagen']"
      ]
     },
     "execution_count": 2,
     "metadata": {},
     "output_type": "execute_result"
    }
   ],
   "source": [
    "logostxt=open(\"d:\\\\Downloads\\\\datasets\\\\carBrandLogos\\\\archive\\\\Car_Brand_Logos\\\\spisok.txt\")\n",
    "logos_list=logostxt.read().split(\"\\n\")\n",
    "#logos_list=['Burger King','KFC','McDonalds','Other','Starbucks','Subway']\n",
    "logos_list.sort()\n",
    "CountOfClasses=len(logos_list)\n",
    "print(CountOfClasses)\n",
    "logos_list"
   ]
  },
  {
   "cell_type": "code",
   "execution_count": 3,
   "metadata": {},
   "outputs": [
    {
     "name": "stdout",
     "output_type": "stream",
     "text": [
      "device is cpu\n"
     ]
    }
   ],
   "source": [
    "device = 'cuda' if torch.cuda.is_available() else 'cpu'\n",
    "print('device is',device)"
   ]
  },
  {
   "cell_type": "code",
   "execution_count": 4,
   "metadata": {},
   "outputs": [],
   "source": [
    "path = 'd:\\\\Downloads\\\\datasets\\\\carBrandLogos\\\\archive\\\\Car_Brand_Logos\\\\Train'"
   ]
  },
  {
   "cell_type": "code",
   "execution_count": 5,
   "metadata": {},
   "outputs": [],
   "source": [
    "transforms=tv.transforms.Compose([\n",
    "    tv.transforms.Resize((60,60)),\n",
    "    tv.transforms.ToTensor()\n",
    "    \n",
    "])"
   ]
  },
  {
   "cell_type": "code",
   "execution_count": 6,
   "metadata": {},
   "outputs": [],
   "source": [
    "from matplotlib.transforms import Transform\n",
    "dataset=tv.datasets.ImageFolder(root=path,transform=transforms)"
   ]
  },
  {
   "cell_type": "code",
   "execution_count": 7,
   "metadata": {},
   "outputs": [],
   "source": [
    "dataloader=torch.utils.data.DataLoader(dataset,batch_size=16,shuffle=True,num_workers=4)"
   ]
  },
  {
   "cell_type": "code",
   "execution_count": 8,
   "metadata": {},
   "outputs": [
    {
     "name": "stdout",
     "output_type": "stream",
     "text": [
      "(tensor([[[0.7961, 0.7961, 0.7961,  ..., 0.7765, 0.7725, 0.7725],\n",
      "         [0.7961, 0.7961, 0.7961,  ..., 0.7843, 0.7765, 0.7686],\n",
      "         [0.7961, 0.7961, 0.7961,  ..., 0.7804, 0.7686, 0.7647],\n",
      "         ...,\n",
      "         [0.9255, 0.7216, 0.7451,  ..., 0.9725, 0.9725, 0.9882],\n",
      "         [0.9647, 0.7647, 0.6745,  ..., 0.9137, 0.9137, 0.9804],\n",
      "         [0.9922, 0.9569, 0.9176,  ..., 0.9882, 0.9922, 0.9961]],\n",
      "\n",
      "        [[0.8549, 0.8549, 0.8549,  ..., 0.8353, 0.8353, 0.8314],\n",
      "         [0.8549, 0.8549, 0.8549,  ..., 0.8431, 0.8353, 0.8275],\n",
      "         [0.8549, 0.8549, 0.8549,  ..., 0.8392, 0.8275, 0.8235],\n",
      "         ...,\n",
      "         [0.9451, 0.8235, 0.8431,  ..., 0.9725, 0.9725, 0.9882],\n",
      "         [0.9765, 0.8431, 0.7843,  ..., 0.9137, 0.9137, 0.9804],\n",
      "         [0.9882, 0.9765, 0.9529,  ..., 0.9882, 0.9922, 0.9961]],\n",
      "\n",
      "        [[0.9451, 0.9451, 0.9451,  ..., 0.8980, 0.9098, 0.9216],\n",
      "         [0.9451, 0.9451, 0.9451,  ..., 0.9059, 0.9098, 0.9176],\n",
      "         [0.9451, 0.9451, 0.9451,  ..., 0.9020, 0.9020, 0.9137],\n",
      "         ...,\n",
      "         [0.8196, 0.3843, 0.4588,  ..., 0.9725, 0.9725, 0.9882],\n",
      "         [0.8588, 0.5059, 0.3059,  ..., 0.9137, 0.9137, 0.9804],\n",
      "         [0.9765, 0.9451, 0.8314,  ..., 0.9882, 0.9922, 0.9961]]]), 0)\n"
     ]
    },
    {
     "data": {
      "image/png": "[encoded data removed]",
      "text/plain": [
       "<Figure size 640x480 with 1 Axes>"
      ]
     },
     "metadata": {},
     "output_type": "display_data"
    }
   ],
   "source": [
    "plt.imshow(dataset[118][0].numpy().transpose((1,2,0)))\n",
    "print(dataset[118])\n",
    "#print(dataset[50][0].numpy().transpose((1,2,0)).shape)\n",
    "#print(dataset[50][0].shape)\n",
    "#m=nn.Conv2d(3,32,kernel_size=3,padding=0)\n",
    "#m=nn.AdaptiveAvgPool2d((1,1))\n",
    "#print(m(dataset[50][0]).shape) \n",
    "#plt.imshow(m(dataset[50][0]).numpy().transpose((1,2,0)))\n",
    "#print(dataset[50])"
   ]
  },
  {
   "cell_type": "code",
   "execution_count": 9,
   "metadata": {},
   "outputs": [],
   "source": [
    "class CNA(nn.Module):\n",
    "  def __init__(self,in_ch=32,out_ch=32):\n",
    "    super().__init__()\n",
    "    self.conv=nn.Conv2d(in_ch,out_ch,kernel_size=3,padding=1)\n",
    "    self.norm=nn.BatchNorm2d(out_ch)\n",
    "    self.act=nn.ReLU()\n",
    "\n",
    "  def forward(self,x):\n",
    "    out=self.conv(x)\n",
    "    out=self.norm(out)\n",
    "    out=self.act(out)\n",
    "    return out\n",
    "net=CNA()\n",
    "net=net.to(device)"
   ]
  },
  {
   "cell_type": "code",
   "execution_count": 10,
   "metadata": {},
   "outputs": [],
   "source": [
    "class MyConvModel(nn.Module):\n",
    "  def __init__(self, base_ch=64):\n",
    "    super().__init__()\n",
    "    cna1_1=CNA(3,base_ch) \n",
    "    cna1_2=CNA(base_ch,base_ch) \n",
    "    \n",
    "    cna2_1=CNA(base_ch,2*base_ch)\n",
    "    cna2_2=CNA(2*base_ch,4*base_ch)\n",
    "\n",
    "    cna3_1=CNA(4*base_ch,8*base_ch)\n",
    "    cna3_2=CNA(8*base_ch,8*base_ch)\n",
    "    \n",
    "    cna4_1=CNA(8*base_ch,16*base_ch)\n",
    "    # cna4_2=CNA(8*base_ch,8*base_ch)\n",
    "\n",
    "    # cna5_1=CNA(8*base_ch,8*base_ch)\n",
    "    # cna5_2=CNA(8*base_ch,8*base_ch)\n",
    "    \n",
    "    act=nn.ReLU()\n",
    "\n",
    "    Linear_1=nn.Linear(16*base_ch,8*base_ch)\n",
    "    Linear_2=nn.Linear(8*base_ch,2*base_ch)\n",
    "    #Linear_3=nn.Linear(16*base_ch,8*base_ch)\n",
    "    Linear_4=nn.Linear(2*base_ch,CountOfClasses)\n",
    "\n",
    "    maxpool=nn.MaxPool2d((2,2),stride=2)\n",
    "    avgpool=nn.AdaptiveAvgPool2d((1,1))\n",
    "    flatten=nn.Flatten()\n",
    "    \n",
    "    self.model = nn.Sequential(\n",
    "          cna1_1,cna1_2,maxpool,# (16,3,60,60)-> (16,32,30,30)\n",
    "          cna2_1,cna2_2,maxpool,#(16,32,30,30)->(16,64,15,15)\n",
    "          cna3_1,cna3_2,maxpool,\n",
    "          cna4_1,avgpool,\n",
    "          #cna5_1,cna5_2,avgpool,\n",
    "          flatten,\n",
    "          Linear_1,act,\n",
    "          Linear_2,act,\n",
    "          #Linear_3,act,\n",
    "          Linear_4\n",
    "          \n",
    "    )\n",
    "  def forward(self,x):\n",
    "    return self.model(x)\n",
    "net=MyConvModel()\n",
    "net=net.to(device)"
   ]
  },
  {
   "cell_type": "code",
   "execution_count": 11,
   "metadata": {},
   "outputs": [],
   "source": [
    "# vggNet=tv.models.vgg.vgg19(weights=tv.models.VGG19_Weights)\n",
    "# classifier=nn.Sequential(\n",
    "#     nn.Linear(25088,600),\n",
    "#     nn.ReLU(),\n",
    "#     nn.Linear(600,600),\n",
    "#     nn.ReLU(),\n",
    "#     nn.Linear(600,CountOfClasses)\n",
    "# )\n",
    "# vggNet.classifier=classifier\n",
    "# for param in vggNet.features.parameters():\n",
    "#     param.requires_grad=False\n",
    "# #net = SimpleConvNet()\n",
    "# net=vggNet\n",
    "# net = net.to(device)"
   ]
  },
  {
   "cell_type": "code",
   "execution_count": 12,
   "metadata": {},
   "outputs": [
    {
     "name": "stdout",
     "output_type": "stream",
     "text": [
      "9263944\n"
     ]
    }
   ],
   "source": [
    "#loss_fn = nn.CrossEntropyLoss()\n",
    "loss_fn=nn.MSELoss()\n",
    "optimizer=torch.optim.Adam(net.parameters(),lr=1e-4, betas=(0.9, 0.999))\n",
    "#optimizer=torch.optim.Adam(net.classifier.parameters(),lr=1e-4, betas=(0.9, 0.999))\n",
    "def count_parameters(net):\n",
    "    return sum(p.numel() for p in net.parameters() if p.requires_grad)\n",
    "print(count_parameters(net))"
   ]
  },
  {
   "cell_type": "code",
   "execution_count": 13,
   "metadata": {},
   "outputs": [],
   "source": [
    "def get_accuracy(pred, label):\n",
    "    answer =(pred.argmax(1)==label.argmax(1)).type(torch.float).sum().item()\n",
    "\n",
    "    #answer = pred.detach().numpy().argmax(1) == label.numpy().argmax(1) \n",
    "    return answer"
   ]
  },
  {
   "cell_type": "code",
   "execution_count": 14,
   "metadata": {},
   "outputs": [],
   "source": [
    "#net = torch.load('D:\\\\myprogect\\\\pytorch\\\\weightsOfLogoClassifierbatch1')"
   ]
  },
  {
   "cell_type": "code",
   "execution_count": 15,
   "metadata": {},
   "outputs": [
    {
     "name": "stdout",
     "output_type": "stream",
     "text": [
      "epoch= 0 loss= 0.10314130297378649 accruracy= 0.28283227848101267\n",
      "epoch= 1 loss= 0.09166534858036644 accruracy= 0.4149525316455696\n",
      "epoch= 2 loss= 0.08016949597321733 accruracy= 0.5019778481012658\n",
      "epoch= 3 loss= 0.06666060074975219 accruracy= 0.6301424050632911\n",
      "epoch= 4 loss= 0.05423377692416499 accruracy= 0.7068829113924051\n",
      "epoch= 5 loss= 0.04382015036749123 accruracy= 0.7681962025316456\n",
      "epoch= 6 loss= 0.03684337779620214 accruracy= 0.8085443037974683\n"
     ]
    }
   ],
   "source": [
    "epochs=20\n",
    "for epoch in range(epochs):\n",
    "    loss_val=0\n",
    "    acc_val=0\n",
    "\n",
    "    for sample in dataloader:\n",
    "        img,label = sample\n",
    "\n",
    "        label = label.to(device)\n",
    "        label = Func.one_hot(label, num_classes=CountOfClasses).float()\n",
    "        # label=Func.one_hot(label,num_classes=10)\n",
    "        #label = label.float()\n",
    "        #label = label.unsqueeze(1)\n",
    "        img = img.to(device)\n",
    "        \n",
    "        optimizer.zero_grad()\n",
    "       \n",
    "        \n",
    "        pred = net (img)\n",
    "        \n",
    "        loss = loss_fn(pred, label)\n",
    "        loss.backward()\n",
    "\n",
    "        optimizer.step()\n",
    "        \n",
    "        loss_val+=loss.item()\n",
    "        acc_val += get_accuracy(pred.cpu(), label.cpu())\n",
    "\n",
    "    loss_val /= len(dataloader)\n",
    "    acc_val /= len(dataloader)*16\n",
    "    print(\"epoch=\",epoch,\"loss=\",loss_val ,\"accruracy=\",acc_val)"
   ]
  },
  {
   "cell_type": "code",
   "execution_count": null,
   "metadata": {},
   "outputs": [],
   "source": [
    "\n"
   ]
  },
  {
   "cell_type": "code",
   "execution_count": null,
   "metadata": {},
   "outputs": [],
   "source": [
    "torch.save(net, 'D:\\\\myprogect\\\\pytorch\\\\weightsOfLogoClassifierbatch1')"
   ]
  },
  {
   "cell_type": "code",
   "execution_count": null,
   "metadata": {},
   "outputs": [],
   "source": [
    "#net = MyConvModel()\n",
    "#net = torch.load('D:\\\\myprogect\\\\pytorch\\\\weightsOfLogoClassifierbatch1')\n",
    "#net.eval()"
   ]
  },
  {
   "attachments": {},
   "cell_type": "markdown",
   "metadata": {},
   "source": [
    "Test for one image"
   ]
  },
  {
   "cell_type": "code",
   "execution_count": null,
   "metadata": {},
   "outputs": [
    {
     "name": "stdout",
     "output_type": "stream",
     "text": [
      "tensor([[0.2500, 0.1875, 0.1651, 0.1003, 0.0610, 0.1155, 0.0769, 0.1678]],\n",
      "       grad_fn=<AddmmBackward0>)\n",
      "[0.2500239908695221, 0.18746216595172882, 0.1650862991809845, 0.10026644915342331, 0.0610046461224556, 0.11551427841186523, 0.07686367630958557, 0.1678069829940796]\n",
      "0.2500239908695221\n",
      "0\n",
      "hyundai\n",
      "1.1240284889936447\n"
     ]
    },
    {
     "data": {
      "image/png": "[encoded data removed]",
      "text/plain": [
       "<Figure size 640x480 with 1 Axes>"
      ]
     },
     "metadata": {},
     "output_type": "display_data"
    }
   ],
   "source": [
    "path=\"d:\\\\Downloads\\\\datasets\\\\carBrandLogos\\\\archive\\\\Car_Brand_Logos\\\\mytest\\\\2.jpg\"\n",
    "img=Image.open(path)\n",
    "tensorImg=transforms(img)\n",
    "batchImg=torch.unsqueeze(tensorImg,0)\n",
    "out=net(batchImg)\n",
    "print(out)\n",
    "test=out\n",
    "out=out.squeeze()\n",
    "out=out.tolist()\n",
    "print(out)\n",
    "print(max(out))\n",
    "print(out.index(max(out)))\n",
    "print(logos_list[out.index(max(out))])\n",
    "print(sum(out))\n",
    "y_pos = np.arange(len(logos_list))\n",
    "plt.bar(y_pos, out, align='center', alpha=0.5)\n",
    "plt.xticks(y_pos, logos_list)\n",
    "plt.ylabel('Value')\n",
    "plt.title('Bar title')\n",
    "\n",
    "plt.show()\n",
    "# dataset=tv.datasets.ImageFolder(root=path,transform=transforms)\n",
    "# #print(dataset[0])\n",
    "# testloader=torch.utils.data.DataLoader(dataset,batch_size=1,shuffle=True)\n",
    "# for sample in testloader:\n",
    "#   img,label = sample\n",
    "#   img=img.to(device)\n",
    "#   pred=net(img)\n",
    "  \n",
    "#   pred=max(pred).tolist()\n",
    "#   print(pred)\n",
    "#   print(pred.index(max(pred)))\n",
    "#   print(max(pred))\n",
    "#   print(logos_list[ pred.index(max(pred))])"
   ]
  },
  {
   "attachments": {},
   "cell_type": "markdown",
   "metadata": {},
   "source": [
    "test for test dataset dataset img =1460"
   ]
  },
  {
   "cell_type": "code",
   "execution_count": null,
   "metadata": {},
   "outputs": [
    {
     "name": "stdout",
     "output_type": "stream",
     "text": [
      "loss= 0.11178616645727033 accruracy= 0.120175089534421\n",
      "[2513.    0.    0.    0.    0.    0.    0.    0.]\n",
      "2513.0\n"
     ]
    }
   ],
   "source": [
    "a=np.zeros(CountOfClasses)\n",
    "path = 'd:\\\\Downloads\\\\datasets\\\\carBrandLogos\\\\archive\\\\Car_Brand_Logos\\\\Train'\n",
    "dataset=tv.datasets.ImageFolder(root=path,transform=transforms)\n",
    "dataloader=torch.utils.data.DataLoader(dataset,batch_size=1,shuffle=True,num_workers=4)\n",
    "loss_val=0\n",
    "acc_val=0\n",
    "for sample in dataloader:\n",
    "    img,label = sample\n",
    "\n",
    "    label = label.to(device)\n",
    "    label = Func.one_hot(label, num_classes=CountOfClasses).float()\n",
    "        # label=Func.one_hot(label,num_classes=10)\n",
    "        #label = label.float()\n",
    "        #label = label.unsqueeze(1)\n",
    "    img = img.to(device) \n",
    "    pred = net (img)\n",
    "    out=pred.squeeze()\n",
    "    out=out.tolist()\n",
    "    a[out.index(max(out))]+=1\n",
    "    loss = loss_fn(pred, label)\n",
    "         \n",
    "    loss_val+=loss.item()\n",
    "    acc_val += get_accuracy(pred.cpu(), label.cpu())\n",
    "    \n",
    "loss_val /= len(dataloader)\n",
    "acc_val /= len(dataloader)\n",
    "print(\"loss=\",loss_val ,\"accruracy=\",acc_val)\n",
    "print(a)\n",
    "print(sum(a))"
   ]
  },
  {
   "cell_type": "code",
   "execution_count": null,
   "metadata": {},
   "outputs": [
    {
     "data": {
      "image/png": "[encoded data removed]",
      "text/plain": [
       "<Figure size 640x480 with 1 Axes>"
      ]
     },
     "metadata": {},
     "output_type": "display_data"
    }
   ],
   "source": [
    "y_pos = np.arange(len(logos_list))\n",
    "plt.bar(y_pos, a, align='center', alpha=0.5)\n",
    "plt.xticks(y_pos, logos_list)\n",
    "plt.ylabel('Value')\n",
    "plt.title('Bar title')\n",
    "\n",
    "plt.show()"
   ]
  },
  {
   "attachments": {},
   "cell_type": "markdown",
   "metadata": {},
   "source": [
    "эта хуйня не работает"
   ]
  }
 ],
 "metadata": {
  "kernelspec": {
   "display_name": "base",
   "language": "python",
   "name": "python3"
  },
  "language_info": {
   "codemirror_mode": {
    "name": "ipython",
    "version": 3
   },
   "file_extension": ".py",
   "mimetype": "text/x-python",
   "name": "python",
   "nbconvert_exporter": "python",
   "pygments_lexer": "ipython3",
   "version": "3.9.13"
  },
  "orig_nbformat": 4
 },
 "nbformat": 4,
 "nbformat_minor": 2
}
