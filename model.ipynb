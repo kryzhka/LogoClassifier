{
 "cells": [
  {
   "cell_type": "code",
   "execution_count": 1,
   "metadata": {},
   "outputs": [],
   "source": [
    "import torch\n",
    "import torch.nn as nn\n",
    "import torchvision as tv\n",
    "import pandas as pd\n",
    "import numpy as np\n",
    "import cv2\n",
    "from PIL import Image\n",
    "import matplotlib.pyplot as plt\n",
    "from tqdm import tqdm\n",
    "import torch.nn.functional as Func\n"
   ]
  },
  {
   "cell_type": "code",
   "execution_count": 2,
   "metadata": {},
   "outputs": [
    {
     "data": {
      "text/plain": [
       "['ABLE',\n",
       " 'AC',\n",
       " 'ACID',\n",
       " 'AFernandez',\n",
       " 'ALCO',\n",
       " 'AND1',\n",
       " 'Acorn',\n",
       " 'AdanyEva',\n",
       " 'Addidas',\n",
       " 'Advent',\n",
       " 'Alliance',\n",
       " 'AlmostSkateboards',\n",
       " 'Always',\n",
       " 'Amador',\n",
       " 'Amoco',\n",
       " 'Amsterdam',\n",
       " 'Anchorage',\n",
       " 'Animal',\n",
       " 'Ankara',\n",
       " 'Annapurna']"
      ]
     },
     "execution_count": 2,
     "metadata": {},
     "output_type": "execute_result"
    }
   ],
   "source": [
    "logostxt=open(\"D:/Downloads/datasets/mini_logo_good/spisok.txt\")\n",
    "logos_list=logostxt.read().split(\"\\n\")\n",
    "#logos_list=['Burger King','KFC','McDonalds','Other','Starbucks','Subway']\n",
    "logos_list.sort()\n",
    "CountOfClasses=len(logos_list)\n",
    "logos_list"
   ]
  },
  {
   "cell_type": "code",
   "execution_count": 3,
   "metadata": {},
   "outputs": [
    {
     "name": "stdout",
     "output_type": "stream",
     "text": [
      "device is cpu\n"
     ]
    }
   ],
   "source": [
    "device = 'cuda' if torch.cuda.is_available() else 'cpu'\n",
    "print('device is',device)"
   ]
  },
  {
   "cell_type": "code",
   "execution_count": 4,
   "metadata": {},
   "outputs": [],
   "source": [
    "path = 'D:/Downloads/datasets/mini_logo_good/train'"
   ]
  },
  {
   "cell_type": "code",
   "execution_count": 5,
   "metadata": {},
   "outputs": [],
   "source": [
    "transforms=tv.transforms.Compose([\n",
    "    tv.transforms.Resize((70,70)),\n",
    "    tv.transforms.ToTensor()\n",
    "    \n",
    "])"
   ]
  },
  {
   "cell_type": "code",
   "execution_count": 6,
   "metadata": {},
   "outputs": [],
   "source": [
    "from matplotlib.transforms import Transform\n",
    "dataset=tv.datasets.ImageFolder(root=path,transform=transforms)"
   ]
  },
  {
   "cell_type": "code",
   "execution_count": 7,
   "metadata": {},
   "outputs": [],
   "source": [
    "dataloader=torch.utils.data.DataLoader(dataset,batch_size=16,shuffle=True,num_workers=4)"
   ]
  },
  {
   "cell_type": "code",
   "execution_count": 8,
   "metadata": {},
   "outputs": [
    {
     "name": "stdout",
     "output_type": "stream",
     "text": [
      "(tensor([[[0.0000, 0.0000, 0.0000,  ..., 0.0000, 0.0000, 0.0000],\n",
      "         [0.0000, 0.0000, 0.0000,  ..., 0.0000, 0.0000, 0.0000],\n",
      "         [0.0000, 0.0000, 0.0000,  ..., 0.0000, 0.0000, 0.0000],\n",
      "         ...,\n",
      "         [0.5608, 0.5608, 0.5608,  ..., 0.5608, 0.5608, 0.5608],\n",
      "         [0.5608, 0.5608, 0.5608,  ..., 0.5608, 0.5608, 0.5608],\n",
      "         [0.5608, 0.5608, 0.5608,  ..., 0.5608, 0.5608, 0.5608]],\n",
      "\n",
      "        [[0.1529, 0.1529, 0.1529,  ..., 0.1529, 0.1529, 0.1529],\n",
      "         [0.1529, 0.1529, 0.1529,  ..., 0.1529, 0.1529, 0.1529],\n",
      "         [0.1529, 0.1529, 0.1529,  ..., 0.1529, 0.1529, 0.1529],\n",
      "         ...,\n",
      "         [0.5608, 0.5608, 0.5608,  ..., 0.5608, 0.5608, 0.5608],\n",
      "         [0.5608, 0.5608, 0.5608,  ..., 0.5608, 0.5608, 0.5608],\n",
      "         [0.5608, 0.5608, 0.5608,  ..., 0.5608, 0.5608, 0.5608]],\n",
      "\n",
      "        [[0.1725, 0.1725, 0.1725,  ..., 0.1725, 0.1725, 0.1725],\n",
      "         [0.1725, 0.1725, 0.1725,  ..., 0.1725, 0.1725, 0.1725],\n",
      "         [0.1725, 0.1725, 0.1725,  ..., 0.1725, 0.1725, 0.1725],\n",
      "         ...,\n",
      "         [0.5608, 0.5608, 0.5608,  ..., 0.5608, 0.5608, 0.5608],\n",
      "         [0.5608, 0.5608, 0.5608,  ..., 0.5608, 0.5608, 0.5608],\n",
      "         [0.5608, 0.5608, 0.5608,  ..., 0.5608, 0.5608, 0.5608]]]), 1)\n"
     ]
    },
    {
     "data": {
      "image/png": "[encoded data removed]",
      "text/plain": [
       "<Figure size 640x480 with 1 Axes>"
      ]
     },
     "metadata": {},
     "output_type": "display_data"
    }
   ],
   "source": [
    "plt.imshow(dataset[118][0].numpy().transpose((1,2,0)))\n",
    "print(dataset[118])\n",
    "#print(dataset[50][0].numpy().transpose((1,2,0)).shape)\n",
    "#print(dataset[50][0].shape)\n",
    "#m=nn.Conv2d(3,32,kernel_size=3,padding=0)\n",
    "#m=nn.AdaptiveAvgPool2d((1,1))\n",
    "#print(m(dataset[50][0]).shape) \n",
    "#plt.imshow(m(dataset[50][0]).numpy().transpose((1,2,0)))\n",
    "#print(dataset[50])"
   ]
  },
  {
   "cell_type": "code",
   "execution_count": 9,
   "metadata": {},
   "outputs": [],
   "source": [
    "class CNA(nn.Module):\n",
    "  def __init__(self,in_ch=32,out_ch=32):\n",
    "    super().__init__()\n",
    "    self.conv=nn.Conv2d(in_ch,out_ch,kernel_size=3,padding=1)\n",
    "    self.norm=nn.BatchNorm2d(out_ch)\n",
    "    self.act=nn.ReLU()\n",
    "\n",
    "  def forward(self,x):\n",
    "    out=self.conv(x)\n",
    "    out=self.norm(out)\n",
    "    out=self.act(out)\n",
    "    return out\n",
    "net=CNA()\n",
    "net=net.to(device)"
   ]
  },
  {
   "cell_type": "code",
   "execution_count": 10,
   "metadata": {},
   "outputs": [],
   "source": [
    "class MyConvModel(nn.Module):\n",
    "  def __init__(self, base_ch=64):\n",
    "    super().__init__()\n",
    "    cna1_1=CNA(3,base_ch) \n",
    "    cna1_2=CNA(base_ch,base_ch) \n",
    "    cna2_1=CNA(base_ch,2*base_ch)\n",
    "    cna2_2=CNA(2*base_ch,2*base_ch)\n",
    "    cna3_1=CNA(2*base_ch,4*base_ch)\n",
    "    cna3_2=CNA(4*base_ch,4*base_ch)\n",
    "    cna4_1=CNA(4*base_ch,8*base_ch)\n",
    "    cna4_2=CNA(8*base_ch,8*base_ch)\n",
    "    cna5_1=CNA(8*base_ch,16*base_ch)\n",
    "    cna6_1=CNA(16*base_ch,32*base_ch)\n",
    "    \n",
    "    Linear=nn.Linear(32*base_ch,CountOfClasses)\n",
    "    maxpool=nn.MaxPool2d(2,2)\n",
    "    avgpool=nn.AdaptiveAvgPool2d((1,1))\n",
    "    flatten=nn.Flatten()\n",
    "    self.model = nn.Sequential(\n",
    "          cna1_1,cna1_2,maxpool,# (16,3,60,60)-> (16,32,30,30)\n",
    "          cna2_1,cna2_2,maxpool,#(16,32,30,30)->(16,64,15,15)\n",
    "          cna3_1,cna3_2,maxpool,\n",
    "          cna4_1,cna4_2,maxpool,\n",
    "          cna5_1,maxpool,\n",
    "          cna6_1,avgpool,\n",
    "          flatten,Linear\n",
    "    )\n",
    "  def forward(self,x):\n",
    "    return self.model(x)\n",
    "net=MyConvModel()\n",
    "net=net.to(device)"
   ]
  },
  {
   "cell_type": "code",
   "execution_count": 11,
   "metadata": {},
   "outputs": [
    {
     "name": "stdout",
     "output_type": "stream",
     "text": [
      "28332372\n"
     ]
    }
   ],
   "source": [
    "#loss_fn = nn.CrossEntropyLoss()\n",
    "loss_fn=nn.MSELoss()\n",
    "optimizer=torch.optim.Adam(net.parameters(),lr=1e-4, betas=(0.9, 0.999))\n",
    "def count_parameters(net):\n",
    "    return sum(p.numel() for p in net.parameters() if p.requires_grad)\n",
    "print(count_parameters(net))"
   ]
  },
  {
   "cell_type": "code",
   "execution_count": 12,
   "metadata": {},
   "outputs": [],
   "source": [
    "def get_accuracy(pred, label):\n",
    "    answer = pred.detach().numpy().argmax(1) == label.numpy().argmax(1) \n",
    "    return answer.mean()"
   ]
  },
  {
   "cell_type": "code",
   "execution_count": 25,
   "metadata": {},
   "outputs": [
    {
     "ename": "AxisError",
     "evalue": "axis 1 is out of bounds for array of dimension 1",
     "output_type": "error",
     "traceback": [
      "\u001b[1;31m---------------------------------------------------------------------------\u001b[0m",
      "\u001b[1;31mAxisError\u001b[0m                                 Traceback (most recent call last)",
      "\u001b[1;32md:\\myprogect\\pytorch\\LogoClassifier\\model.ipynb Cell 13\u001b[0m in \u001b[0;36m6\n\u001b[0;32m      <a href='vscode-notebook-cell:/d%3A/myprogect/pytorch/LogoClassifier/model.ipynb#X30sZmlsZQ%3D%3D?line=3'>4</a>\u001b[0m pred\u001b[39m=\u001b[39mtorch\u001b[39m.\u001b[39mFloatTensor(pred)\n\u001b[0;32m      <a href='vscode-notebook-cell:/d%3A/myprogect/pytorch/LogoClassifier/model.ipynb#X30sZmlsZQ%3D%3D?line=4'>5</a>\u001b[0m label\u001b[39m=\u001b[39mtorch\u001b[39m.\u001b[39mFloatTensor(label)\n\u001b[1;32m----> <a href='vscode-notebook-cell:/d%3A/myprogect/pytorch/LogoClassifier/model.ipynb#X30sZmlsZQ%3D%3D?line=5'>6</a>\u001b[0m get_accuracy(pred,label)\n",
      "\u001b[1;32md:\\myprogect\\pytorch\\LogoClassifier\\model.ipynb Cell 13\u001b[0m in \u001b[0;36m2\n\u001b[0;32m      <a href='vscode-notebook-cell:/d%3A/myprogect/pytorch/LogoClassifier/model.ipynb#X30sZmlsZQ%3D%3D?line=0'>1</a>\u001b[0m \u001b[39mdef\u001b[39;00m \u001b[39mget_accuracy\u001b[39m(pred, label):\n\u001b[1;32m----> <a href='vscode-notebook-cell:/d%3A/myprogect/pytorch/LogoClassifier/model.ipynb#X30sZmlsZQ%3D%3D?line=1'>2</a>\u001b[0m     answer \u001b[39m=\u001b[39m pred\u001b[39m.\u001b[39;49mdetach()\u001b[39m.\u001b[39;49mnumpy()\u001b[39m.\u001b[39;49margmax(\u001b[39m1\u001b[39;49m) \u001b[39m==\u001b[39m label\u001b[39m.\u001b[39mnumpy()\u001b[39m.\u001b[39margmax(\u001b[39m1\u001b[39m) \n\u001b[0;32m      <a href='vscode-notebook-cell:/d%3A/myprogect/pytorch/LogoClassifier/model.ipynb#X30sZmlsZQ%3D%3D?line=2'>3</a>\u001b[0m     \u001b[39mreturn\u001b[39;00m answer\u001b[39m.\u001b[39mmean()\n",
      "\u001b[1;31mAxisError\u001b[0m: axis 1 is out of bounds for array of dimension 1"
     ]
    }
   ],
   "source": []
  },
  {
   "cell_type": "code",
   "execution_count": 13,
   "metadata": {},
   "outputs": [
    {
     "ename": "KeyboardInterrupt",
     "evalue": "",
     "output_type": "error",
     "traceback": [
      "\u001b[1;31m---------------------------------------------------------------------------\u001b[0m",
      "\u001b[1;31mKeyboardInterrupt\u001b[0m                         Traceback (most recent call last)",
      "\u001b[1;32md:\\myprogect\\pytorch\\LogoClassifier\\model.ipynb Cell 14\u001b[0m in \u001b[0;36m2\n\u001b[0;32m     <a href='vscode-notebook-cell:/d%3A/myprogect/pytorch/LogoClassifier/model.ipynb#X15sZmlsZQ%3D%3D?line=18'>19</a>\u001b[0m pred \u001b[39m=\u001b[39m net (img)\n\u001b[0;32m     <a href='vscode-notebook-cell:/d%3A/myprogect/pytorch/LogoClassifier/model.ipynb#X15sZmlsZQ%3D%3D?line=20'>21</a>\u001b[0m loss \u001b[39m=\u001b[39m loss_fn(pred, label)\n\u001b[1;32m---> <a href='vscode-notebook-cell:/d%3A/myprogect/pytorch/LogoClassifier/model.ipynb#X15sZmlsZQ%3D%3D?line=21'>22</a>\u001b[0m loss\u001b[39m.\u001b[39;49mbackward()\n\u001b[0;32m     <a href='vscode-notebook-cell:/d%3A/myprogect/pytorch/LogoClassifier/model.ipynb#X15sZmlsZQ%3D%3D?line=23'>24</a>\u001b[0m optimizer\u001b[39m.\u001b[39mstep()\n\u001b[0;32m     <a href='vscode-notebook-cell:/d%3A/myprogect/pytorch/LogoClassifier/model.ipynb#X15sZmlsZQ%3D%3D?line=25'>26</a>\u001b[0m loss_val\u001b[39m+\u001b[39m\u001b[39m=\u001b[39mloss\u001b[39m.\u001b[39mitem()\n",
      "File \u001b[1;32m~\\AppData\\Roaming\\Python\\Python39\\site-packages\\torch\\_tensor.py:488\u001b[0m, in \u001b[0;36mTensor.backward\u001b[1;34m(self, gradient, retain_graph, create_graph, inputs)\u001b[0m\n\u001b[0;32m    478\u001b[0m \u001b[39mif\u001b[39;00m has_torch_function_unary(\u001b[39mself\u001b[39m):\n\u001b[0;32m    479\u001b[0m     \u001b[39mreturn\u001b[39;00m handle_torch_function(\n\u001b[0;32m    480\u001b[0m         Tensor\u001b[39m.\u001b[39mbackward,\n\u001b[0;32m    481\u001b[0m         (\u001b[39mself\u001b[39m,),\n\u001b[1;32m   (...)\u001b[0m\n\u001b[0;32m    486\u001b[0m         inputs\u001b[39m=\u001b[39minputs,\n\u001b[0;32m    487\u001b[0m     )\n\u001b[1;32m--> 488\u001b[0m torch\u001b[39m.\u001b[39;49mautograd\u001b[39m.\u001b[39;49mbackward(\n\u001b[0;32m    489\u001b[0m     \u001b[39mself\u001b[39;49m, gradient, retain_graph, create_graph, inputs\u001b[39m=\u001b[39;49minputs\n\u001b[0;32m    490\u001b[0m )\n",
      "File \u001b[1;32m~\\AppData\\Roaming\\Python\\Python39\\site-packages\\torch\\autograd\\__init__.py:197\u001b[0m, in \u001b[0;36mbackward\u001b[1;34m(tensors, grad_tensors, retain_graph, create_graph, grad_variables, inputs)\u001b[0m\n\u001b[0;32m    192\u001b[0m     retain_graph \u001b[39m=\u001b[39m create_graph\n\u001b[0;32m    194\u001b[0m \u001b[39m# The reason we repeat same the comment below is that\u001b[39;00m\n\u001b[0;32m    195\u001b[0m \u001b[39m# some Python versions print out the first line of a multi-line function\u001b[39;00m\n\u001b[0;32m    196\u001b[0m \u001b[39m# calls in the traceback and some print out the last line\u001b[39;00m\n\u001b[1;32m--> 197\u001b[0m Variable\u001b[39m.\u001b[39;49m_execution_engine\u001b[39m.\u001b[39;49mrun_backward(  \u001b[39m# Calls into the C++ engine to run the backward pass\u001b[39;49;00m\n\u001b[0;32m    198\u001b[0m     tensors, grad_tensors_, retain_graph, create_graph, inputs,\n\u001b[0;32m    199\u001b[0m     allow_unreachable\u001b[39m=\u001b[39;49m\u001b[39mTrue\u001b[39;49;00m, accumulate_grad\u001b[39m=\u001b[39;49m\u001b[39mTrue\u001b[39;49;00m)\n",
      "\u001b[1;31mKeyboardInterrupt\u001b[0m: "
     ]
    }
   ],
   "source": [
    "epochs=10\n",
    "for epoch in range(epochs):\n",
    "    loss_val=0\n",
    "    acc_val=0\n",
    "\n",
    "    for sample in dataloader:\n",
    "        img,label = sample\n",
    "\n",
    "        label = label.to(device)\n",
    "        label = Func.one_hot(label, num_classes=CountOfClasses).float()\n",
    "        # label=Func.one_hot(label,num_classes=10)\n",
    "        #label = label.float()\n",
    "        #label = label.unsqueeze(1)\n",
    "        img = img.to(device)\n",
    "        \n",
    "        optimizer.zero_grad()\n",
    "       \n",
    "        \n",
    "        pred = net (img)\n",
    "\n",
    "        loss = loss_fn(pred, label)\n",
    "        loss.backward()\n",
    "\n",
    "        optimizer.step()\n",
    "        \n",
    "        loss_val+=loss.item()\n",
    "        acc_val += get_accuracy(pred.cpu(), label.cpu())\n",
    "\n",
    "    loss_val /= len(dataloader)\n",
    "    acc_val /= len(dataloader)\n",
    "    print(\"epoch=\",epoch,\"loss=\",loss_val ,\"accruracy=\",acc_val)"
   ]
  },
  {
   "cell_type": "code",
   "execution_count": null,
   "metadata": {},
   "outputs": [],
   "source": [
    "torch.save(net, 'D:\\\\myprogect\\\\pytorch\\\\weightsOfLogoClassifierbatch1')"
   ]
  },
  {
   "cell_type": "code",
   "execution_count": null,
   "metadata": {},
   "outputs": [],
   "source": [
    "#net = MyConvModel()\n",
    "net = torch.load('D:\\\\myprogect\\\\pytorch\\\\weightsOfLogoClassifierbatch1')\n",
    "#net.eval()"
   ]
  },
  {
   "attachments": {},
   "cell_type": "markdown",
   "metadata": {},
   "source": [
    "Test for one image"
   ]
  },
  {
   "cell_type": "code",
   "execution_count": 26,
   "metadata": {},
   "outputs": [
    {
     "name": "stdout",
     "output_type": "stream",
     "text": [
      "tensor([[-0.0202, -0.0473,  0.0557,  0.0305,  0.1049,  0.0324,  0.0480,  0.0511,\n",
      "          0.0960,  0.0794,  0.1182,  0.0489,  0.0295,  0.0148,  0.0411, -0.0009,\n",
      "          0.0838,  0.0133,  0.0506,  0.0352]], grad_fn=<AddmmBackward0>)\n",
      "[-0.020222879946231842, -0.04729676991701126, 0.0557359978556633, 0.030504785478115082, 0.10494683682918549, 0.03237152099609375, 0.04799430072307587, 0.051079362630844116, 0.09596098959445953, 0.0793878585100174, 0.11823788285255432, 0.048892710357904434, 0.029542867094278336, 0.014767603948712349, 0.041092317551374435, -0.000918438658118248, 0.08376963436603546, 0.013349955901503563, 0.0506187342107296, 0.03515405207872391]\n",
      "0.11823788285255432\n",
      "10\n",
      "Alliance\n",
      "0.8649693224579096\n"
     ]
    },
    {
     "data": {
      "image/png": "[encoded data removed]",
      "text/plain": [
       "<Figure size 640x480 with 1 Axes>"
      ]
     },
     "metadata": {},
     "output_type": "display_data"
    }
   ],
   "source": [
    "path=\"D:/Downloads/datasets/mini_logo_good/test1/11/52jpg.jpg\"\n",
    "img=Image.open(path)\n",
    "tensorImg=transforms(img)\n",
    "batchImg=torch.unsqueeze(tensorImg,0)\n",
    "out=net(batchImg)\n",
    "test=out\n",
    "out=out.squeeze()\n",
    "out=out.tolist()\n",
    "print(out)\n",
    "print(max(out))\n",
    "print(out.index(max(out)))\n",
    "print(logos_list[out.index(max(out))])\n",
    "print(sum(out))\n",
    "y_pos = np.arange(len(logos_list))\n",
    "plt.bar(y_pos, out, align='center', alpha=0.5)\n",
    "plt.xticks(y_pos, logos_list)\n",
    "plt.ylabel('Value')\n",
    "plt.title('Bar title')\n",
    "\n",
    "plt.show()\n",
    "# dataset=tv.datasets.ImageFolder(root=path,transform=transforms)\n",
    "# #print(dataset[0])\n",
    "# testloader=torch.utils.data.DataLoader(dataset,batch_size=1,shuffle=True)\n",
    "# for sample in testloader:\n",
    "#   img,label = sample\n",
    "#   img=img.to(device)\n",
    "#   pred=net(img)\n",
    "  \n",
    "#   pred=max(pred).tolist()\n",
    "#   print(pred)\n",
    "#   print(pred.index(max(pred)))\n",
    "#   print(max(pred))\n",
    "#   print(logos_list[ pred.index(max(pred))])"
   ]
  },
  {
   "attachments": {},
   "cell_type": "markdown",
   "metadata": {},
   "source": [
    "test for test dataset"
   ]
  },
  {
   "cell_type": "code",
   "execution_count": 27,
   "metadata": {},
   "outputs": [
    {
     "ename": "AxisError",
     "evalue": "axis 1 is out of bounds for array of dimension 1",
     "output_type": "error",
     "traceback": [
      "\u001b[1;31m---------------------------------------------------------------------------\u001b[0m",
      "\u001b[1;31mAxisError\u001b[0m                                 Traceback (most recent call last)",
      "\u001b[1;32md:\\myprogect\\pytorch\\LogoClassifier\\model.ipynb Cell 20\u001b[0m in \u001b[0;36m4\n\u001b[0;32m      <a href='vscode-notebook-cell:/d%3A/myprogect/pytorch/LogoClassifier/model.ipynb#X32sZmlsZQ%3D%3D?line=1'>2</a>\u001b[0m label[\u001b[39m0\u001b[39m]\u001b[39m=\u001b[39m\u001b[39m1\u001b[39m\n\u001b[0;32m      <a href='vscode-notebook-cell:/d%3A/myprogect/pytorch/LogoClassifier/model.ipynb#X32sZmlsZQ%3D%3D?line=2'>3</a>\u001b[0m label\u001b[39m=\u001b[39mtorch\u001b[39m.\u001b[39mFloatTensor(label)\n\u001b[1;32m----> <a href='vscode-notebook-cell:/d%3A/myprogect/pytorch/LogoClassifier/model.ipynb#X32sZmlsZQ%3D%3D?line=3'>4</a>\u001b[0m get_accuracy(pred,label)\n",
      "\u001b[1;32md:\\myprogect\\pytorch\\LogoClassifier\\model.ipynb Cell 20\u001b[0m in \u001b[0;36m2\n\u001b[0;32m      <a href='vscode-notebook-cell:/d%3A/myprogect/pytorch/LogoClassifier/model.ipynb#X32sZmlsZQ%3D%3D?line=0'>1</a>\u001b[0m \u001b[39mdef\u001b[39;00m \u001b[39mget_accuracy\u001b[39m(pred, label):\n\u001b[1;32m----> <a href='vscode-notebook-cell:/d%3A/myprogect/pytorch/LogoClassifier/model.ipynb#X32sZmlsZQ%3D%3D?line=1'>2</a>\u001b[0m     answer \u001b[39m=\u001b[39m pred\u001b[39m.\u001b[39;49mdetach()\u001b[39m.\u001b[39;49mnumpy()\u001b[39m.\u001b[39;49margmax(\u001b[39m1\u001b[39;49m) \u001b[39m==\u001b[39m label\u001b[39m.\u001b[39mnumpy()\u001b[39m.\u001b[39margmax(\u001b[39m1\u001b[39m) \n\u001b[0;32m      <a href='vscode-notebook-cell:/d%3A/myprogect/pytorch/LogoClassifier/model.ipynb#X32sZmlsZQ%3D%3D?line=2'>3</a>\u001b[0m     \u001b[39mreturn\u001b[39;00m answer\u001b[39m.\u001b[39mmean()\n",
      "\u001b[1;31mAxisError\u001b[0m: axis 1 is out of bounds for array of dimension 1"
     ]
    }
   ],
   "source": [
    "label=np.zeros(20)\n",
    "label[0]=1\n",
    "label=torch.FloatTensor(label)\n",
    "get_accuracy(pred,label)"
   ]
  },
  {
   "cell_type": "code",
   "execution_count": null,
   "metadata": {},
   "outputs": [
    {
     "name": "stdout",
     "output_type": "stream",
     "text": [
      "loss= 3.1914293801455487 accruracy= 0.059447983014861996\n",
      "[  0.   0.   0.   0.   0.   0.   0.   0.   0.   0.   0.   0.   0.   0.\n",
      "   0.   0.   0.   0. 471.   0.]\n"
     ]
    }
   ],
   "source": [
    "a=np.zeros(20)\n",
    "path = 'D:/Downloads/datasets/mini_logo_good/test'\n",
    "dataset=tv.datasets.ImageFolder(root=path,transform=transforms)\n",
    "dataloader=torch.utils.data.DataLoader(dataset,batch_size=1,shuffle=True,num_workers=4)\n",
    "loss_val=0\n",
    "acc_val=0\n",
    "for sample in dataloader:\n",
    "    img,label = sample\n",
    "\n",
    "    label = label.to(device)\n",
    "    label = Func.one_hot(label, num_classes=CountOfClasses).float()\n",
    "        # label=Func.one_hot(label,num_classes=10)\n",
    "        #label = label.float()\n",
    "        #label = label.unsqueeze(1)\n",
    "    img = img.to(device) \n",
    "    pred = net (img)\n",
    "    out=pred.squeeze()\n",
    "    out=out.tolist()\n",
    "    a[out.index(max(out))]+=1\n",
    "    loss = loss_fn(pred, label)\n",
    "         \n",
    "    loss_val+=loss.item()\n",
    "    acc_val += get_accuracy(pred.cpu(), label.cpu())\n",
    "    \n",
    "loss_val /= len(dataloader)\n",
    "acc_val /= len(dataloader)\n",
    "print(\"loss=\",loss_val ,\"accruracy=\",acc_val)\n",
    "print(a)"
   ]
  },
  {
   "cell_type": "code",
   "execution_count": null,
   "metadata": {},
   "outputs": [
    {
     "data": {
      "image/png": "[encoded data removed]",
      "text/plain": [
       "<Figure size 640x480 with 1 Axes>"
      ]
     },
     "metadata": {},
     "output_type": "display_data"
    }
   ],
   "source": [
    "y_pos = np.arange(len(logos_list))\n",
    "plt.bar(y_pos, a, align='center', alpha=0.5)\n",
    "plt.xticks(y_pos, logos_list)\n",
    "plt.ylabel('Value')\n",
    "plt.title('Bar title')\n",
    "\n",
    "plt.show()"
   ]
  },
  {
   "attachments": {},
   "cell_type": "markdown",
   "metadata": {},
   "source": [
    "эта хуйня не работает"
   ]
  }
 ],
 "metadata": {
  "kernelspec": {
   "display_name": "base",
   "language": "python",
   "name": "python3"
  },
  "language_info": {
   "codemirror_mode": {
    "name": "ipython",
    "version": 3
   },
   "file_extension": ".py",
   "mimetype": "text/x-python",
   "name": "python",
   "nbconvert_exporter": "python",
   "pygments_lexer": "ipython3",
   "version": "3.9.13"
  },
  "orig_nbformat": 4
 },
 "nbformat": 4,
 "nbformat_minor": 2
}
