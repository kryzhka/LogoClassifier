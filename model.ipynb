{
 "cells": [
  {
   "cell_type": "code",
   "execution_count": 1,
   "metadata": {},
   "outputs": [],
   "source": [
    "import torch\n",
    "import torch.nn as nn\n",
    "import torchvision as tv\n",
    "import pandas as pd\n",
    "import numpy as np\n",
    "import cv2\n",
    "from PIL import Image\n",
    "import matplotlib.pyplot as plt\n",
    "from tqdm import tqdm\n",
    "import torch.nn.functional as Func\n"
   ]
  },
  {
   "cell_type": "code",
   "execution_count": 2,
   "metadata": {},
   "outputs": [
    {
     "name": "stdout",
     "output_type": "stream",
     "text": [
      "8\n"
     ]
    },
    {
     "data": {
      "text/plain": [
       "['hyundai',\n",
       " 'lexus',\n",
       " 'mazda',\n",
       " 'mercedes',\n",
       " 'opel',\n",
       " 'skoda',\n",
       " 'toyota',\n",
       " 'volkswagen']"
      ]
     },
     "execution_count": 2,
     "metadata": {},
     "output_type": "execute_result"
    }
   ],
   "source": [
    "logostxt=open(\"C:\\\\Users\\\\kryzh\\\\Desktop\\\\datasets\\\\carBrandLogos\\\\archive\\\\Car_Brand_Logos\\\\spisok.txt\")\n",
    "logos_list=logostxt.read().split(\"\\n\")\n",
    "#logos_list=['Burger King','KFC','McDonalds','Other','Starbucks','Subway']\n",
    "logos_list.sort()\n",
    "CountOfClasses=len(logos_list)\n",
    "print(CountOfClasses)\n",
    "logos_list"
   ]
  },
  {
   "cell_type": "code",
   "execution_count": 3,
   "metadata": {},
   "outputs": [
    {
     "name": "stdout",
     "output_type": "stream",
     "text": [
      "device is cuda\n"
     ]
    }
   ],
   "source": [
    "device = 'cuda' if torch.cuda.is_available() else 'cpu'\n",
    "print('device is',device)"
   ]
  },
  {
   "cell_type": "code",
   "execution_count": 4,
   "metadata": {},
   "outputs": [],
   "source": [
    "path = 'C:\\\\Users\\\\kryzh\\\\Desktop\\\\datasets\\\\carBrandLogos\\\\archive\\\\Car_Brand_Logos\\\\Train'"
   ]
  },
  {
   "cell_type": "code",
   "execution_count": 5,
   "metadata": {},
   "outputs": [],
   "source": [
    "transforms=tv.transforms.Compose([\n",
    "    tv.transforms.Resize((80,80)),\n",
    "    tv.transforms.ToTensor()\n",
    "    \n",
    "])"
   ]
  },
  {
   "cell_type": "code",
   "execution_count": 6,
   "metadata": {},
   "outputs": [],
   "source": [
    "from matplotlib.transforms import Transform\n",
    "dataset=tv.datasets.ImageFolder(root=path,transform=transforms)"
   ]
  },
  {
   "cell_type": "code",
   "execution_count": 7,
   "metadata": {},
   "outputs": [],
   "source": [
    "dataloader=torch.utils.data.DataLoader(dataset,batch_size=2,shuffle=True,)"
   ]
  },
  {
   "cell_type": "code",
   "execution_count": 8,
   "metadata": {},
   "outputs": [
    {
     "name": "stdout",
     "output_type": "stream",
     "text": [
      "(tensor([[[0.7961, 0.7961, 0.7961,  ..., 0.7725, 0.7765, 0.7725],\n",
      "         [0.7961, 0.7961, 0.7961,  ..., 0.7765, 0.7725, 0.7686],\n",
      "         [0.7961, 0.7961, 0.7961,  ..., 0.7804, 0.7725, 0.7647],\n",
      "         ...,\n",
      "         [0.9843, 0.7608, 0.6549,  ..., 0.8941, 0.9176, 0.9882],\n",
      "         [0.9961, 0.9333, 0.7882,  ..., 0.9529, 0.9686, 0.9882],\n",
      "         [0.9961, 0.9804, 0.9725,  ..., 0.9922, 0.9922, 0.9961]],\n",
      "\n",
      "        [[0.8549, 0.8549, 0.8549,  ..., 0.8353, 0.8353, 0.8314],\n",
      "         [0.8549, 0.8549, 0.8549,  ..., 0.8392, 0.8314, 0.8275],\n",
      "         [0.8549, 0.8549, 0.8549,  ..., 0.8431, 0.8314, 0.8235],\n",
      "         ...,\n",
      "         [0.9843, 0.8353, 0.7804,  ..., 0.8941, 0.9176, 0.9882],\n",
      "         [0.9961, 0.9569, 0.8667,  ..., 0.9529, 0.9686, 0.9882],\n",
      "         [0.9882, 0.9804, 0.9922,  ..., 0.9922, 0.9922, 0.9961]],\n",
      "\n",
      "        [[0.9451, 0.9451, 0.9451,  ..., 0.8980, 0.9176, 0.9216],\n",
      "         [0.9451, 0.9451, 0.9451,  ..., 0.9020, 0.9176, 0.9176],\n",
      "         [0.9451, 0.9451, 0.9451,  ..., 0.9059, 0.9137, 0.9137],\n",
      "         ...,\n",
      "         [0.8980, 0.4627, 0.2314,  ..., 0.8941, 0.9176, 0.9882],\n",
      "         [0.9137, 0.8784, 0.5725,  ..., 0.9529, 0.9686, 0.9882],\n",
      "         [0.9882, 1.0000, 0.9686,  ..., 0.9922, 0.9922, 0.9961]]]), 0)\n"
     ]
    },
    {
     "data": {
      "image/png": "[encoded data removed]",
      "text/plain": [
       "<Figure size 640x480 with 1 Axes>"
      ]
     },
     "metadata": {},
     "output_type": "display_data"
    }
   ],
   "source": [
    "plt.imshow(dataset[118][0].numpy().transpose((1,2,0)))\n",
    "print(dataset[118])\n",
    "#print(dataset[50][0].numpy().transpose((1,2,0)).shape)\n",
    "#print(dataset[50][0].shape)\n",
    "#m=nn.Conv2d(3,32,kernel_size=3,padding=0)\n",
    "#m=nn.AdaptiveAvgPool2d((1,1))\n",
    "#print(m(dataset[50][0]).shape) \n",
    "#plt.imshow(m(dataset[50][0]).numpy().transpose((1,2,0)))\n",
    "#print(dataset[50])"
   ]
  },
  {
   "cell_type": "code",
   "execution_count": 9,
   "metadata": {},
   "outputs": [],
   "source": [
    "class CNA(nn.Module):\n",
    "  def __init__(self,in_ch=32,out_ch=32):\n",
    "    super().__init__()\n",
    "    self.conv=nn.Conv2d(in_ch,out_ch,kernel_size=3,padding=1)\n",
    "    self.norm=nn.BatchNorm2d(out_ch)\n",
    "    self.act=nn.ReLU()\n",
    "\n",
    "  def forward(self,x):\n",
    "    out=self.conv(x)\n",
    "    out=self.norm(out)\n",
    "    out=self.act(out)\n",
    "    return out\n",
    "net=CNA()\n",
    "net=net.to(device)"
   ]
  },
  {
   "cell_type": "code",
   "execution_count": 10,
   "metadata": {},
   "outputs": [],
   "source": [
    "class MyConvModel(nn.Module):\n",
    "  def __init__(self, base_ch=64):\n",
    "    super().__init__()\n",
    "    cna1_1=CNA(3,base_ch) \n",
    "    cna1_2=CNA(base_ch,base_ch) \n",
    "    \n",
    "    cna2_1=CNA(base_ch,2*base_ch)\n",
    "    cna2_2=CNA(2*base_ch,2*base_ch)\n",
    "\n",
    "    cna3_1=CNA(2*base_ch,4*base_ch)\n",
    "    cna3_2=CNA(4*base_ch,4*base_ch)\n",
    "    \n",
    "    cna4_1=CNA(4*base_ch,8*base_ch)\n",
    "    cna4_2=CNA(8*base_ch,8*base_ch)\n",
    "    #cna4_3=CNA(8*base_ch,8*base_ch)\n",
    "\n",
    "    cna5_1=CNA(8*base_ch,8*base_ch)\n",
    "    cna5_2=CNA(8*base_ch,8*base_ch)\n",
    "    cna5_3=CNA(8*base_ch,8*base_ch)\n",
    "    \n",
    "    act=nn.ReLU()\n",
    "\n",
    "    Linear_1=nn.Linear(8*base_ch,16*base_ch)\n",
    "    Linear_2=nn.Linear(16*base_ch,4*base_ch)\n",
    "    #Linear_3=nn.Linear(16*base_ch,8*base_ch)\n",
    "    Linear_4=nn.Linear(4*base_ch,CountOfClasses)\n",
    "\n",
    "    maxpool=nn.MaxPool2d((2,2),stride=2)\n",
    "    avgpool=nn.AdaptiveAvgPool2d((1,1))\n",
    "    flatten=nn.Flatten()\n",
    "    \n",
    "    self.model = nn.Sequential(\n",
    "          cna1_1,cna1_2,maxpool,# (16,3,60,60)-> (16,32,30,30)\n",
    "          cna2_1,cna2_2,maxpool,#(16,32,30,30)->(16,64,15,15)\n",
    "          cna3_1,cna3_2,maxpool,\n",
    "          cna4_1,cna4_2,maxpool,\n",
    "          #cna5_1,cna5_2,cna5_3,avgpool,\n",
    "          cna5_1,cna5_2,avgpool,\n",
    "          flatten,\n",
    "          Linear_1,act,\n",
    "          Linear_2,act,\n",
    "          #Linear_3,act,\n",
    "          Linear_4\n",
    "          \n",
    "    )\n",
    "  def forward(self,x):\n",
    "    return self.model(x)\n",
    "net=MyConvModel()\n",
    "net=net.to(device)"
   ]
  },
  {
   "cell_type": "code",
   "execution_count": 11,
   "metadata": {},
   "outputs": [],
   "source": [
    "# vggNet=tv.models.vgg.vgg19(weights=tv.models.VGG19_Weights)\n",
    "# classifier=nn.Sequential(\n",
    "#     nn.Linear(25088,600),\n",
    "#     nn.ReLU(),\n",
    "#     nn.Linear(600,600),\n",
    "#     nn.ReLU(),\n",
    "#     nn.Linear(600,CountOfClasses)\n",
    "# )\n",
    "# vggNet.classifier=classifier\n",
    "# for param in vggNet.features.parameters():\n",
    "#     param.requires_grad=False\n",
    "# #net = SimpleConvNet()\n",
    "# net=vggNet\n",
    "# net = net.to(device)"
   ]
  },
  {
   "cell_type": "code",
   "execution_count": 12,
   "metadata": {},
   "outputs": [
    {
     "name": "stdout",
     "output_type": "stream",
     "text": [
      "10200648\n"
     ]
    }
   ],
   "source": [
    "loss_fn = nn.CrossEntropyLoss()\n",
    "#loss_fn=nn.MSELoss()\n",
    "optimizer=torch.optim.Adam(net.parameters(),lr=1e-4, betas=(0.9, 0.999))\n",
    "#optimizer=torch.optim.Adam(net.classifier.parameters(),lr=1e-4, betas=(0.9, 0.999))\n",
    "def count_parameters(net):\n",
    "    return sum(p.numel() for p in net.parameters() if p.requires_grad)\n",
    "print(count_parameters(net))"
   ]
  },
  {
   "cell_type": "code",
   "execution_count": 13,
   "metadata": {},
   "outputs": [],
   "source": [
    "def get_accuracy(pred, label):\n",
    "    answer =(pred.argmax(1)==label.argmax(1)).type(torch.float).sum().item()\n",
    "\n",
    "    #answer = pred.detach().numpy().argmax(1) == label.numpy().argmax(1) \n",
    "    return answer"
   ]
  },
  {
   "cell_type": "code",
   "execution_count": 14,
   "metadata": {},
   "outputs": [],
   "source": [
    "#net = torch.load('C:\\\\Users\\\\kryzh\\\\weightsOfLogoClassifierbatch1')"
   ]
  },
  {
   "cell_type": "code",
   "execution_count": 15,
   "metadata": {},
   "outputs": [],
   "source": [
    "def realCheck():\n",
    "\n",
    "    path=\"C:\\\\Users\\\\kryzh\\\\Desktop\\\\datasets\\\\carBrandLogos\\\\archive\\\\Car_Brand_Logos\\\\mytest\\\\2.jpg\"\n",
    "    img=Image.open(path)\n",
    "    tensorImg=transforms(img)\n",
    "    batchImg=torch.unsqueeze(tensorImg,0)\n",
    "    batchImg=batchImg.to(device)\n",
    "    out=net(batchImg)\n",
    "    #print(out)\n",
    "    test=out\n",
    "    out=out.squeeze()\n",
    "    out=out.tolist()\n",
    "    #print(out)\n",
    "    #print(max(out))\n",
    "    #print(out.index(max(out)))\n",
    "    print(logos_list[out.index(max(out))])\n",
    "    #print(sum(out))\n",
    "    y_pos = np.arange(len(logos_list))\n",
    "    plt.bar(y_pos, out, align='center', alpha=0.5)\n",
    "    plt.xticks(y_pos, logos_list)\n",
    "    plt.ylabel('Value')\n",
    "    plt.title('Bar title')\n",
    "\n",
    "    plt.show()"
   ]
  },
  {
   "cell_type": "code",
   "execution_count": 16,
   "metadata": {},
   "outputs": [
    {
     "name": "stdout",
     "output_type": "stream",
     "text": [
      "epoch= 0 loss= 2.0820588282203523 accruracy= 0.13444709626093873\n",
      "epoch= 1 loss= 2.078721481556919 accruracy= 0.13404932378679396\n",
      "epoch= 2 loss= 2.0707325310392237 accruracy= 0.15234685759745425\n",
      "epoch= 3 loss= 2.0660494097472184 accruracy= 0.14956245027844073\n",
      "epoch= 4 loss= 2.035331433219576 accruracy= 0.17541766109785203\n",
      "epoch= 5 loss= 2.0028403664545684 accruracy= 0.18973747016706444\n",
      "epoch= 6 loss= 1.9616524385097203 accruracy= 0.2096260938743039\n",
      "epoch= 7 loss= 1.9261784809585971 accruracy= 0.22275258552108193\n",
      "epoch= 8 loss= 1.922709227272131 accruracy= 0.24781225139220367\n",
      "epoch= 9 loss= 1.8979243652253466 accruracy= 0.2557677008750994\n",
      "epoch= 10 loss= 1.8751533888310028 accruracy= 0.27724741447891804\n",
      "epoch= 11 loss= 1.8456841961391026 accruracy= 0.28758949880668255\n",
      "epoch= 12 loss= 1.8141607723733026 accruracy= 0.3038981702466189\n",
      "epoch= 13 loss= 1.7834043474356713 accruracy= 0.3198090692124105\n",
      "epoch= 14 loss= 1.750669118043631 accruracy= 0.324582338902148\n",
      "epoch= 15 loss= 1.6843607383724613 accruracy= 0.3448687350835322\n",
      "epoch= 16 loss= 1.6084155786246086 accruracy= 0.37788385043754974\n",
      "epoch= 17 loss= 1.539882430171056 accruracy= 0.41408114558472553\n",
      "epoch= 18 loss= 1.473044882478843 accruracy= 0.4315831344470963\n",
      "epoch= 19 loss= 1.3718229087488985 accruracy= 0.49801113762927607\n",
      "epoch= 20 loss= 1.2429678605138876 accruracy= 0.5461416070007955\n",
      "epoch= 21 loss= 1.1433958847967756 accruracy= 0.5938743038981702\n",
      "epoch= 22 loss= 1.0368854002100945 accruracy= 0.6356404136833731\n",
      "epoch= 23 loss= 0.9363367004718635 accruracy= 0.6750198886237072\n",
      "epoch= 24 loss= 0.8393239424420949 accruracy= 0.7163882259347654\n",
      "epoch= 25 loss= 0.7364338909256566 accruracy= 0.7541766109785203\n",
      "epoch= 26 loss= 0.6482618672242751 accruracy= 0.788782816229117\n",
      "epoch= 27 loss= 0.5643470348288693 accruracy= 0.817024661893397\n",
      "epoch= 28 loss= 0.517759102621996 accruracy= 0.8202068416865553\n",
      "epoch= 29 loss= 0.41772745767765357 accruracy= 0.8575974542561655\n",
      "epoch= 30 loss= 0.38329178069677616 accruracy= 0.8703261734287987\n",
      "epoch= 31 loss= 0.3232940060653621 accruracy= 0.8902147971360382\n",
      "epoch= 32 loss= 0.29338821176394697 accruracy= 0.8993635640413683\n",
      "epoch= 33 loss= 0.23512410337895204 accruracy= 0.9236276849642004\n",
      "epoch= 34 loss= 0.22423671938418932 accruracy= 0.9232299124900557\n",
      "epoch= 35 loss= 0.19157103855455426 accruracy= 0.933969769291965\n",
      "epoch= 36 loss= 0.17757425082213027 accruracy= 0.9407319013524265\n",
      "epoch= 37 loss= 0.16222644005783218 accruracy= 0.9455051710421639\n",
      "epoch= 38 loss= 0.1338511980724095 accruracy= 0.9554494828957836\n",
      "epoch= 39 loss= 0.1347309826805716 accruracy= 0.9550517104216388\n"
     ]
    }
   ],
   "source": [
    "epochs=40\n",
    "for epoch in range(epochs):\n",
    "    loss_val=0\n",
    "    acc_val=0\n",
    "\n",
    "    for sample in dataloader:\n",
    "        img,label = sample\n",
    "\n",
    "        label = label.to(device)\n",
    "        label = Func.one_hot(label, num_classes=CountOfClasses).float()\n",
    "        # label=Func.one_hot(label,num_classes=10)\n",
    "        #label = label.float()\n",
    "        #label = label.unsqueeze(1)\n",
    "        img = img.to(device)\n",
    "        \n",
    "        optimizer.zero_grad()\n",
    "       \n",
    "        \n",
    "        pred = net (img)\n",
    "        \n",
    "        loss = loss_fn(pred, label)\n",
    "        loss.backward()\n",
    "\n",
    "        optimizer.step()\n",
    "        \n",
    "        loss_val+=loss.item()\n",
    "        acc_val += get_accuracy(pred.cpu(), label.cpu())\n",
    "    \n",
    "\n",
    "    loss_val /= len(dataloader)\n",
    "    acc_val /= len(dataloader)*2\n",
    "    print(\"epoch=\",epoch,\"loss=\",loss_val ,\"accruracy=\",acc_val)"
   ]
  },
  {
   "cell_type": "code",
   "execution_count": 17,
   "metadata": {},
   "outputs": [
    {
     "name": "stdout",
     "output_type": "stream",
     "text": [
      "mercedes\n"
     ]
    },
    {
     "data": {
      "image/png": "[encoded data removed]",
      "text/plain": [
       "<Figure size 640x480 with 1 Axes>"
      ]
     },
     "metadata": {},
     "output_type": "display_data"
    }
   ],
   "source": [
    "\n",
    "realCheck()"
   ]
  },
  {
   "cell_type": "code",
   "execution_count": 18,
   "metadata": {},
   "outputs": [],
   "source": [
    "torch.save(net, 'C:\\\\Users\\\\kryzh\\\\weightsOfLogoClassifierbatch1')"
   ]
  },
  {
   "cell_type": "code",
   "execution_count": 19,
   "metadata": {},
   "outputs": [],
   "source": [
    "#net = MyConvModel()\n",
    "#net = torch.load('D:\\\\myprogect\\\\pytorch\\\\weightsOfLogoClassifierbatch1')\n",
    "#net.eval()"
   ]
  },
  {
   "attachments": {},
   "cell_type": "markdown",
   "metadata": {},
   "source": [
    "Test for one image"
   ]
  },
  {
   "attachments": {},
   "cell_type": "markdown",
   "metadata": {},
   "source": [
    "test for test dataset dataset img =1460"
   ]
  },
  {
   "cell_type": "code",
   "execution_count": 20,
   "metadata": {},
   "outputs": [
    {
     "name": "stdout",
     "output_type": "stream",
     "text": [
      "loss= 1.8238101941726745 accruracy= 0.7\n",
      "[43. 70. 43. 51. 44. 44. 60. 45.]\n",
      "400.0\n"
     ]
    }
   ],
   "source": [
    "a=np.zeros(CountOfClasses)\n",
    "path = 'C:\\\\Users\\\\kryzh\\\\Desktop\\\\datasets\\\\carBrandLogos\\\\archive\\\\Car_Brand_Logos\\\\Test'\n",
    "dataset=tv.datasets.ImageFolder(root=path,transform=transforms)\n",
    "dataloader=torch.utils.data.DataLoader(dataset,batch_size=1,shuffle=True,num_workers=4)\n",
    "loss_val=0\n",
    "acc_val=0\n",
    "for sample in dataloader:\n",
    "    img,label = sample\n",
    "\n",
    "    label = label.to(device)\n",
    "    label = Func.one_hot(label, num_classes=CountOfClasses).float()\n",
    "        # label=Func.one_hot(label,num_classes=10)\n",
    "        #label = label.float()\n",
    "        #label = label.unsqueeze(1)\n",
    "    img = img.to(device) \n",
    "    pred = net (img)\n",
    "    out=pred.squeeze()\n",
    "    out=out.tolist()\n",
    "    a[out.index(max(out))]+=1\n",
    "    loss = loss_fn(pred, label)\n",
    "         \n",
    "    loss_val+=loss.item()\n",
    "    acc_val += get_accuracy(pred.cpu(), label.cpu())\n",
    "    \n",
    "loss_val /= len(dataloader)\n",
    "acc_val /= len(dataloader)\n",
    "print(\"loss=\",loss_val ,\"accruracy=\",acc_val)\n",
    "print(a)\n",
    "print(sum(a))"
   ]
  },
  {
   "cell_type": "code",
   "execution_count": 21,
   "metadata": {},
   "outputs": [
    {
     "data": {
      "image/png": "[encoded data removed]",
      "text/plain": [
       "<Figure size 640x480 with 1 Axes>"
      ]
     },
     "metadata": {},
     "output_type": "display_data"
    }
   ],
   "source": [
    "y_pos = np.arange(len(logos_list))\n",
    "plt.bar(y_pos, a, align='center', alpha=0.5)\n",
    "plt.xticks(y_pos, logos_list)\n",
    "plt.ylabel('Value')\n",
    "plt.title('Bar title')\n",
    "\n",
    "plt.show()"
   ]
  },
  {
   "attachments": {},
   "cell_type": "markdown",
   "metadata": {},
   "source": [
    "эта хуйня не работает"
   ]
  }
 ],
 "metadata": {
  "kernelspec": {
   "display_name": "base",
   "language": "python",
   "name": "python3"
  },
  "language_info": {
   "codemirror_mode": {
    "name": "ipython",
    "version": 3
   },
   "file_extension": ".py",
   "mimetype": "text/x-python",
   "name": "python",
   "nbconvert_exporter": "python",
   "pygments_lexer": "ipython3",
   "version": "3.10.9"
  },
  "orig_nbformat": 4
 },
 "nbformat": 4,
 "nbformat_minor": 2
}
